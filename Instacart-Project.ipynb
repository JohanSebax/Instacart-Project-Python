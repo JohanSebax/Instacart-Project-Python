{
 "cells": [
  {
   "cell_type": "markdown",
   "id": "mhIvmmkW414q",
   "metadata": {
    "id": "mhIvmmkW414q"
   },
   "source": [
    "# Introducción\n",
    "\n",
    "Instacart es una plataforma de entregas de comestibles donde la clientela puede registrar un pedido y hacer que se lo entreguen, similar a Uber Eats y Door Dash.\n",
    "El conjunto de datos que te hemos proporcionado tiene modificaciones del original. Redujimos el tamaño del conjunto para que tus cálculos se hicieran más rápido e introdujimos valores ausentes y duplicados. Tuvimos cuidado de conservar las distribuciones de los datos originales cuando hicimos los cambios.\n",
    "\n",
    "Debes completar tres pasos. Para cada uno de ellos, escribe una breve introducción que refleje con claridad cómo pretendes resolver cada paso, y escribe párrafos explicatorios que justifiquen tus decisiones al tiempo que avanzas en tu solución.  También escribe una conclusión que resuma tus hallazgos y elecciones.\n"
   ]
  },
  {
   "cell_type": "markdown",
   "id": "3MbyzpOQZ5Or",
   "metadata": {
    "id": "3MbyzpOQZ5Or"
   },
   "source": [
    "## Diccionario de datos\n",
    "\n",
    "Hay cinco tablas en el conjunto de datos, y tendrás que usarlas todas para hacer el preprocesamiento de datos y el análisis exploratorio de datos. A continuación se muestra un diccionario de datos que enumera las columnas de cada tabla y describe los datos que contienen.\n",
    "\n",
    "- `instacart_orders.csv`: cada fila corresponde a un pedido en la aplicación Instacart.\n",
    "    - `'order_id'`: número de ID que identifica de manera única cada pedido.\n",
    "    - `'user_id'`: número de ID que identifica de manera única la cuenta de cada cliente.\n",
    "    - `'order_number'`: el número de veces que este cliente ha hecho un pedido.\n",
    "    - `'order_dow'`: día de la semana en que se hizo el pedido (0 si es domingo).\n",
    "    - `'order_hour_of_day'`: hora del día en que se hizo el pedido.\n",
    "    - `'days_since_prior_order'`: número de días transcurridos desde que este cliente hizo su pedido anterior.\n",
    "- `products.csv`: cada fila corresponde a un producto único que pueden comprar los clientes.\n",
    "    - `'product_id'`: número ID que identifica de manera única cada producto.\n",
    "    - `'product_name'`: nombre del producto.\n",
    "    - `'aisle_id'`: número ID que identifica de manera única cada categoría de pasillo de víveres.\n",
    "    - `'department_id'`: número ID que identifica de manera única cada departamento de víveres.\n",
    "- `order_products.csv`: cada fila corresponde a un artículo pedido en un pedido.\n",
    "    - `'order_id'`: número de ID que identifica de manera única cada pedido.\n",
    "    - `'product_id'`: número ID que identifica de manera única cada producto.\n",
    "    - `'add_to_cart_order'`: el orden secuencial en el que se añadió cada artículo en el carrito.\n",
    "    - `'reordered'`: 0 si el cliente nunca ha pedido este producto antes, 1 si lo ha pedido.\n",
    "- `aisles.csv`\n",
    "    - `'aisle_id'`: número ID que identifica de manera única cada categoría de pasillo de víveres.\n",
    "    - `'aisle'`: nombre del pasillo.\n",
    "- `departments.csv`\n",
    "    - `'department_id'`: número ID que identifica de manera única cada departamento de víveres.\n",
    "    - `'department'`: nombre del departamento."
   ]
  },
  {
   "cell_type": "markdown",
   "id": "n3Ha_cNSZ8lK",
   "metadata": {
    "id": "n3Ha_cNSZ8lK"
   },
   "source": [
    "# Paso 1. Descripción de los datos\n",
    "\n",
    "Lee los archivos de datos (`/datasets/instacart_orders.csv`, `/datasets/products.csv`, `/datasets/aisles.csv`, `/datasets/departments.csv` y `/datasets/order_products.csv`) con `pd.read_csv()` usando los parámetros adecuados para leer los datos correctamente. Verifica la información para cada DataFrame creado.\n"
   ]
  },
  {
   "cell_type": "markdown",
   "id": "OmlQPLlyaAfR",
   "metadata": {
    "id": "OmlQPLlyaAfR"
   },
   "source": [
    "## Plan de solución\n",
    "\n",
    "Escribe aquí tu plan de solución para el Paso 1. Descripción de los datos."
   ]
  },
  {
   "cell_type": "code",
   "execution_count": 1,
   "id": "fbf1adab",
   "metadata": {
    "id": "fbf1adab"
   },
   "outputs": [],
   "source": [
    "# importe de librerías\n",
    "\n",
    "import pandas as pd\n",
    "from matplotlib import pyplot as plt\n",
    "import numpy as np\n"
   ]
  },
  {
   "cell_type": "code",
   "execution_count": 3,
   "id": "ad36396d",
   "metadata": {
    "id": "ad36396d"
   },
   "outputs": [],
   "source": [
    "# leer conjuntos de datos en los DataFrames\n",
    "\n",
    "orders_df = pd.read_csv(\"instacart_orders.csv\", sep=\";\")\n",
    "products_df = pd.read_csv(\"products.csv\", sep=\";\")\n",
    "aisles_df = pd.read_csv(\"aisles.csv\", sep=\";\")\n",
    "departments_df = pd.read_csv(\"departments.csv\", sep=\";\")\n",
    "order_products_df = pd.read_csv(\"order_products.csv\", sep=\";\")\n"
   ]
  },
  {
   "cell_type": "code",
   "execution_count": 4,
   "id": "ad6a1efa",
   "metadata": {
    "id": "ad6a1efa"
   },
   "outputs": [
    {
     "name": "stdout",
     "output_type": "stream",
     "text": [
      "   order_id  user_id  order_number  order_dow  order_hour_of_day  \\\n",
      "0   1515936   183418            11          6                 13   \n",
      "1   1690866   163593             5          5                 12   \n",
      "2   1454967    39980             4          5                 19   \n",
      "3   1768857    82516            56          0                 20   \n",
      "4   3007858   196724             2          4                 12   \n",
      "\n",
      "   days_since_prior_order  \n",
      "0                    30.0  \n",
      "1                     9.0  \n",
      "2                     2.0  \n",
      "3                    10.0  \n",
      "4                    17.0  \n",
      "<class 'pandas.core.frame.DataFrame'>\n",
      "RangeIndex: 478967 entries, 0 to 478966\n",
      "Data columns (total 6 columns):\n",
      " #   Column                  Non-Null Count   Dtype  \n",
      "---  ------                  --------------   -----  \n",
      " 0   order_id                478967 non-null  int64  \n",
      " 1   user_id                 478967 non-null  int64  \n",
      " 2   order_number            478967 non-null  int64  \n",
      " 3   order_dow               478967 non-null  int64  \n",
      " 4   order_hour_of_day       478967 non-null  int64  \n",
      " 5   days_since_prior_order  450148 non-null  float64\n",
      "dtypes: float64(1), int64(5)\n",
      "memory usage: 21.9 MB\n"
     ]
    }
   ],
   "source": [
    "# mostrar información del DataFrame\n",
    "\n",
    "print(orders_df.head())\n",
    "orders_df.info(show_counts=True)\n"
   ]
  },
  {
   "cell_type": "code",
   "execution_count": 5,
   "id": "5130e05e",
   "metadata": {
    "id": "5130e05e"
   },
   "outputs": [
    {
     "name": "stdout",
     "output_type": "stream",
     "text": [
      "   product_id                                       product_name  aisle_id  \\\n",
      "0           1                         Chocolate Sandwich Cookies        61   \n",
      "1           2                                   All-Seasons Salt       104   \n",
      "2           3               Robust Golden Unsweetened Oolong Tea        94   \n",
      "3           4  Smart Ones Classic Favorites Mini Rigatoni Wit...        38   \n",
      "4           5                          Green Chile Anytime Sauce         5   \n",
      "\n",
      "   department_id  \n",
      "0             19  \n",
      "1             13  \n",
      "2              7  \n",
      "3              1  \n",
      "4             13  \n",
      "<class 'pandas.core.frame.DataFrame'>\n",
      "RangeIndex: 49694 entries, 0 to 49693\n",
      "Data columns (total 4 columns):\n",
      " #   Column         Non-Null Count  Dtype \n",
      "---  ------         --------------  ----- \n",
      " 0   product_id     49694 non-null  int64 \n",
      " 1   product_name   48436 non-null  object\n",
      " 2   aisle_id       49694 non-null  int64 \n",
      " 3   department_id  49694 non-null  int64 \n",
      "dtypes: int64(3), object(1)\n",
      "memory usage: 1.5+ MB\n"
     ]
    }
   ],
   "source": [
    "# mostrar información del DataFrame\n",
    "\n",
    "print(products_df.head())\n",
    "products_df.info(show_counts=True)"
   ]
  },
  {
   "cell_type": "code",
   "execution_count": 6,
   "id": "d8370c05",
   "metadata": {
    "id": "d8370c05"
   },
   "outputs": [
    {
     "name": "stdout",
     "output_type": "stream",
     "text": [
      "   aisle_id                       aisle\n",
      "0         1       prepared soups salads\n",
      "1         2           specialty cheeses\n",
      "2         3         energy granola bars\n",
      "3         4               instant foods\n",
      "4         5  marinades meat preparation\n",
      "<class 'pandas.core.frame.DataFrame'>\n",
      "RangeIndex: 134 entries, 0 to 133\n",
      "Data columns (total 2 columns):\n",
      " #   Column    Non-Null Count  Dtype \n",
      "---  ------    --------------  ----- \n",
      " 0   aisle_id  134 non-null    int64 \n",
      " 1   aisle     134 non-null    object\n",
      "dtypes: int64(1), object(1)\n",
      "memory usage: 2.2+ KB\n"
     ]
    }
   ],
   "source": [
    "# mostrar información del DataFrame\n",
    "print(aisles_df.head())\n",
    "aisles_df.info(show_counts=True)"
   ]
  },
  {
   "cell_type": "code",
   "execution_count": 7,
   "id": "59e2090f",
   "metadata": {
    "id": "59e2090f"
   },
   "outputs": [
    {
     "name": "stdout",
     "output_type": "stream",
     "text": [
      "   department_id department\n",
      "0              1     frozen\n",
      "1              2      other\n",
      "2              3     bakery\n",
      "3              4    produce\n",
      "4              5    alcohol\n",
      "<class 'pandas.core.frame.DataFrame'>\n",
      "RangeIndex: 21 entries, 0 to 20\n",
      "Data columns (total 2 columns):\n",
      " #   Column         Non-Null Count  Dtype \n",
      "---  ------         --------------  ----- \n",
      " 0   department_id  21 non-null     int64 \n",
      " 1   department     21 non-null     object\n",
      "dtypes: int64(1), object(1)\n",
      "memory usage: 468.0+ bytes\n"
     ]
    }
   ],
   "source": [
    "# mostrar información del DataFrame\n",
    "print(departments_df.head())\n",
    "departments_df.info(show_counts=True)"
   ]
  },
  {
   "cell_type": "code",
   "execution_count": 8,
   "id": "6fc81694",
   "metadata": {
    "id": "6fc81694"
   },
   "outputs": [
    {
     "name": "stdout",
     "output_type": "stream",
     "text": [
      "   order_id  product_id  add_to_cart_order  reordered\n",
      "0   2141543       11440               17.0          0\n",
      "1    567889        1560                1.0          1\n",
      "2   2261212       26683                1.0          1\n",
      "3    491251        8670               35.0          1\n",
      "4   2571142        1940                5.0          1\n",
      "<class 'pandas.core.frame.DataFrame'>\n",
      "RangeIndex: 4545007 entries, 0 to 4545006\n",
      "Data columns (total 4 columns):\n",
      " #   Column             Non-Null Count    Dtype  \n",
      "---  ------             --------------    -----  \n",
      " 0   order_id           4545007 non-null  int64  \n",
      " 1   product_id         4545007 non-null  int64  \n",
      " 2   add_to_cart_order  4544171 non-null  float64\n",
      " 3   reordered          4545007 non-null  int64  \n",
      "dtypes: float64(1), int64(3)\n",
      "memory usage: 138.7 MB\n"
     ]
    }
   ],
   "source": [
    "# mostrar información del DataFrame\n",
    "\n",
    "print(order_products_df.head())\n",
    "order_products_df.info(show_counts=True)"
   ]
  },
  {
   "cell_type": "markdown",
   "id": "t75BD19oaR5f",
   "metadata": {
    "id": "t75BD19oaR5f"
   },
   "source": [
    "## Conclusiones\n",
    "\n",
    "Para el dataframe orders_df vemos que tenemos valores ausentes en la columna \"days_since_prior_order\" y los datos son tipo flotantes pero para este caso deberian ser del tipo entero. Para products_df tenemos valores ausentes en la columna product_name, esta columna es de tipo string con los nombres empezado con la primera letra en Mayusculas, aqui tenemos que tratar esa columna para que nos queden todos los datos en Mayusuculas o Minisculas y sea mas sencillo. En el dataframe aisles_df no hay valores ausentes en las columnas y la columna de tipo string esta toda en minusculas por lo que no es necesario tratar es columna en particular. Lo mismo pasa para el Dataframe departments_df no hay valores ausentes y la columna de tipo string no es necesario tratarla. Para el Dataframe order_products_df tenemos valores ausentes en la columna \"add_to_cart_order\" por lo que tendremos procesar esos datos y remplezarlos por un valor apropiado.\n"
   ]
  },
  {
   "cell_type": "markdown",
   "id": "8RJHqxVmaVsF",
   "metadata": {
    "id": "8RJHqxVmaVsF"
   },
   "source": [
    "# Paso 2. Preprocesamiento de los datos\n",
    "\n",
    "Preprocesa los datos de la siguiente manera:\n",
    "\n",
    "- Verifica y corrige los tipos de datos (por ejemplo, asegúrate de que las columnas de ID sean números enteros).\n",
    "- Identifica y completa los valores ausentes.\n",
    "- Identifica y elimina los valores duplicados.\n",
    "\n",
    "Asegúrate de explicar qué tipos de valores ausentes y duplicados encontraste, cómo los completaste o eliminaste y por qué usaste esos métodos. ¿Por qué crees que estos valores ausentes y duplicados pueden haber estado presentes en el conjunto de datos?"
   ]
  },
  {
   "cell_type": "markdown",
   "id": "p6poABZQaZYb",
   "metadata": {
    "id": "p6poABZQaZYb"
   },
   "source": [
    "## Plan de solución\n",
    "\n",
    "1. Verificamos los valores o filas duplicadas en cada Dataframe por separado, despues hacemos un analisis para ver si factible eliminarnos.\n",
    "\n",
    "2. Filtrar los Dataframes para confirmar si podemos eliminar los valores duplicados sin que afecten los demas datos del Dataframe.\n",
    "\n",
    "3. Eliminar o reemplazar los valores duplicados en las columnas respectivas dependiendo de la situacion. \n"
   ]
  },
  {
   "cell_type": "markdown",
   "id": "07357848-dc64-4156-9cc3-01ff4365226d",
   "metadata": {
    "id": "07357848-dc64-4156-9cc3-01ff4365226d"
   },
   "source": [
    "## Encuentra y elimina los valores duplicados (y describe cómo tomaste tus decisiones)."
   ]
  },
  {
   "cell_type": "markdown",
   "id": "f179f0a9",
   "metadata": {
    "id": "f179f0a9"
   },
   "source": [
    "### `orders` data frame"
   ]
  },
  {
   "cell_type": "code",
   "execution_count": 14,
   "id": "b99297a5-405a-463d-8535-9adc3da4ad74",
   "metadata": {
    "id": "b99297a5-405a-463d-8535-9adc3da4ad74"
   },
   "outputs": [
    {
     "name": "stdout",
     "output_type": "stream",
     "text": [
      "Empty DataFrame\n",
      "Columns: [order_id, user_id, order_number, order_dow, order_hour_of_day, days_since_prior_order]\n",
      "Index: []\n",
      "\n",
      "days_since_prior_order\n",
      "30.0    51337\n",
      "7.0     44577\n",
      "6.0     33930\n",
      "4.0     31006\n",
      "3.0     30224\n",
      "5.0     30096\n",
      "NaN     28817\n",
      "2.0     27138\n",
      "8.0     25361\n",
      "1.0     20179\n",
      "9.0     16753\n",
      "14.0    13992\n",
      "10.0    13309\n",
      "13.0    11737\n",
      "11.0    11467\n",
      "12.0    10658\n",
      "0.0      9589\n",
      "15.0     9416\n",
      "16.0     6587\n",
      "21.0     6448\n",
      "17.0     5498\n",
      "20.0     5302\n",
      "18.0     4971\n",
      "19.0     4939\n",
      "22.0     4514\n",
      "28.0     3745\n",
      "23.0     3337\n",
      "24.0     3015\n",
      "27.0     2986\n",
      "25.0     2711\n",
      "29.0     2673\n",
      "26.0     2640\n",
      "Name: count, dtype: int64\n",
      "\n",
      "0\n"
     ]
    }
   ],
   "source": [
    "# Revisa si hay pedidos duplicados\n",
    "\n",
    "print(orders_df[orders_df.duplicated()])  # Usamos duplicated() para encontrar los duplicados\n",
    "print()\n",
    "print(orders_df[\"days_since_prior_order\"].value_counts(dropna=False))\n",
    "print()\n",
    "print(orders_df.duplicated().sum())\n"
   ]
  },
  {
   "cell_type": "markdown",
   "id": "PEkwUX_gvt5A",
   "metadata": {
    "id": "PEkwUX_gvt5A"
   },
   "source": [
    "¿Tienes líneas duplicadas? Si sí, ¿qué tienen en común?"
   ]
  },
  {
   "cell_type": "markdown",
   "id": "5e98b0dd",
   "metadata": {},
   "source": [
    "Tenemos 15 filas duplicadas en la columna \"days_since_prior_order\", las filas duplicadas tienen en comun que todos los valores en las columnas order_dow y order_hour_of_day parecen ser los mismos, por lo tantos los valores duplicados corresponden a pedidos hechos el mismo dia y a la misma hora."
   ]
  },
  {
   "cell_type": "code",
   "execution_count": 15,
   "id": "0d44de5d",
   "metadata": {
    "id": "0d44de5d"
   },
   "outputs": [
    {
     "name": "stdout",
     "output_type": "stream",
     "text": [
      "        order_id  user_id  order_number  order_dow  order_hour_of_day  \\\n",
      "4838     2766110   162084            41          3                  2   \n",
      "5156     2190225   138285            18          3                  2   \n",
      "15506     553049    58599            13          3                  2   \n",
      "18420     382357   120200            19          3                  2   \n",
      "24691     690242    77357             2          3                  2   \n",
      "...          ...      ...           ...        ...                ...   \n",
      "456998   3384021    14881             6          3                  2   \n",
      "458801    910166   164782            18          3                  2   \n",
      "459620   1680532   106435             6          3                  2   \n",
      "468309    222962    54979            59          3                  2   \n",
      "477511   2592344    46860            38          3                  2   \n",
      "\n",
      "        days_since_prior_order  \n",
      "4838                      16.0  \n",
      "5156                      11.0  \n",
      "15506                      7.0  \n",
      "18420                     11.0  \n",
      "24691                      9.0  \n",
      "...                        ...  \n",
      "456998                    30.0  \n",
      "458801                     4.0  \n",
      "459620                    21.0  \n",
      "468309                     3.0  \n",
      "477511                     3.0  \n",
      "\n",
      "[106 rows x 6 columns]\n",
      "days_since_prior_order\n",
      "30.0    17\n",
      "2.0      9\n",
      "7.0      8\n",
      "3.0      7\n",
      "16.0     6\n",
      "5.0      6\n",
      "4.0      6\n",
      "6.0      5\n",
      "NaN      5\n",
      "8.0      5\n",
      "11.0     4\n",
      "9.0      4\n",
      "19.0     3\n",
      "23.0     2\n",
      "15.0     2\n",
      "10.0     2\n",
      "17.0     2\n",
      "24.0     2\n",
      "12.0     2\n",
      "1.0      2\n",
      "13.0     1\n",
      "29.0     1\n",
      "25.0     1\n",
      "28.0     1\n",
      "14.0     1\n",
      "18.0     1\n",
      "21.0     1\n",
      "Name: count, dtype: int64\n"
     ]
    }
   ],
   "source": [
    "# Basándote en tus hallazgos,\n",
    "# Verifica todos los pedidos que se hicieron el miércoles a las 2:00 a.m.\n",
    "\n",
    "print(orders_df[(orders_df[\"order_hour_of_day\"] == 2) & (orders_df[\"order_dow\"] == 3)])\n",
    "\n",
    "print(orders_df[(orders_df[\"order_hour_of_day\"] == 2) & (orders_df[\"order_dow\"] == 3)][\"days_since_prior_order\"].value_counts(dropna=False))\n"
   ]
  },
  {
   "cell_type": "markdown",
   "id": "vu2OWyoqwOx5",
   "metadata": {
    "id": "vu2OWyoqwOx5"
   },
   "source": [
    "¿Qué sugiere este resultado?"
   ]
  },
  {
   "cell_type": "markdown",
   "id": "e0174570",
   "metadata": {},
   "source": [
    "Vemos que tenemos 121 filas para todos pedidos que fueron hechos el Miercoles a las 2 am de los cuales 15 filas son duplicadas. En este caso podemos eliminar las filas duplicas sin afectar el resto de los datos en el Dataframe."
   ]
  },
  {
   "cell_type": "code",
   "execution_count": 16,
   "id": "480563c7",
   "metadata": {
    "id": "480563c7"
   },
   "outputs": [],
   "source": [
    "# Elimina los pedidos duplicados\n",
    "\n",
    "orders_df = orders_df.drop_duplicates().reset_index(drop=True)"
   ]
  },
  {
   "cell_type": "code",
   "execution_count": 17,
   "id": "0b2396a2",
   "metadata": {
    "id": "0b2396a2"
   },
   "outputs": [
    {
     "name": "stdout",
     "output_type": "stream",
     "text": [
      "0\n"
     ]
    }
   ],
   "source": [
    "# Vuelve a verificar si hay filas duplicadas\n",
    "\n",
    "print(orders_df.duplicated().sum())"
   ]
  },
  {
   "cell_type": "code",
   "execution_count": 18,
   "id": "f6113ef1",
   "metadata": {
    "id": "f6113ef1"
   },
   "outputs": [
    {
     "name": "stdout",
     "output_type": "stream",
     "text": [
      "0\n"
     ]
    }
   ],
   "source": [
    "# Vuelve a verificar únicamente si hay IDs duplicados de pedidos\n",
    "\n",
    "print(orders_df[\"order_id\"].duplicated().sum())\n"
   ]
  },
  {
   "cell_type": "markdown",
   "id": "5e8905ae",
   "metadata": {
    "id": "5e8905ae"
   },
   "source": [
    "Describe brevemente tus hallazgos y lo que hiciste con ellos"
   ]
  },
  {
   "cell_type": "markdown",
   "id": "96270f04",
   "metadata": {},
   "source": [
    "Algunas de las filas duplicadas tienen valores ausentes en la columna days_since_prior_order, como los pedidos fueron hechos el mismo dia y a la misma hora podemos considerar esas filas como duplicadas y eliminarlas."
   ]
  },
  {
   "cell_type": "markdown",
   "id": "45e6bc46",
   "metadata": {
    "id": "45e6bc46"
   },
   "source": [
    "### `products` data frame"
   ]
  },
  {
   "cell_type": "code",
   "execution_count": 19,
   "id": "5f526b5b-8175-46fa-a0fd-441767d50e64",
   "metadata": {
    "id": "5f526b5b-8175-46fa-a0fd-441767d50e64"
   },
   "outputs": [
    {
     "name": "stdout",
     "output_type": "stream",
     "text": [
      "Empty DataFrame\n",
      "Columns: [product_id, product_name, aisle_id, department_id]\n",
      "Index: []\n",
      "\n",
      "0\n"
     ]
    }
   ],
   "source": [
    "# Verifica si hay filas totalmente duplicadas\n",
    "\n",
    "print(products_df[products_df.duplicated()])\n",
    "print()\n",
    "print(products_df.duplicated().sum())"
   ]
  },
  {
   "cell_type": "code",
   "execution_count": 20,
   "id": "88daa4f4",
   "metadata": {
    "id": "88daa4f4"
   },
   "outputs": [
    {
     "name": "stdout",
     "output_type": "stream",
     "text": [
      "49673\n"
     ]
    }
   ],
   "source": [
    "# Revisa únicamente si hay ID de departamentos duplicados\n",
    "\n",
    "print(products_df[\"department_id\"].duplicated().sum())"
   ]
  },
  {
   "cell_type": "code",
   "execution_count": 21,
   "id": "c773f0bf",
   "metadata": {
    "id": "c773f0bf"
   },
   "outputs": [
    {
     "name": "stdout",
     "output_type": "stream",
     "text": [
      "0                           CHOCOLATE SANDWICH COOKIES\n",
      "1                                     ALL-SEASONS SALT\n",
      "2                 ROBUST GOLDEN UNSWEETENED OOLONG TEA\n",
      "3    SMART ONES CLASSIC FAVORITES MINI RIGATONI WIT...\n",
      "4                            GREEN CHILE ANYTIME SAUCE\n",
      "Name: product_name, dtype: object\n",
      "1361\n"
     ]
    }
   ],
   "source": [
    "# Revisa únicamente si hay nombres duplicados de productos (convierte los nombres a letras mayúsculas para compararlos mejor)\n",
    "\n",
    "products_df[\"product_name\"] = products_df[\"product_name\"].str.upper()\n",
    "print(products_df[\"product_name\"].head())\n",
    "print(products_df[\"product_name\"].duplicated().sum())\n"
   ]
  },
  {
   "cell_type": "code",
   "execution_count": 22,
   "id": "01efd02e",
   "metadata": {
    "id": "01efd02e"
   },
   "outputs": [
    {
     "name": "stdout",
     "output_type": "stream",
     "text": [
      "product_name\n",
      "NaN                                                                     1258\n",
      "GREEN TEA WITH GINSENG AND HONEY                                           3\n",
      "CARROT AND CELERY STICKS                                                   2\n",
      "APRICOT ENERGY BAR                                                         2\n",
      "PROACTIVE HEALTH INDOOR WEIGHT & HAIRBALL CARE WITH CHICKEN CAT FOOD       2\n",
      "                                                                        ... \n",
      "ALL NATURAL CHICKEN APPLE SAUSAGE                                          1\n",
      "QUARTERED ARTICHOKE HEARTS                                                 1\n",
      "BIG EYE IPA                                                                1\n",
      "UNSTOPABLES LUSH                                                           1\n",
      "FRESH FOAMING CLEANSER                                                     1\n",
      "Name: count, Length: 48333, dtype: int64\n",
      "\n",
      "['CHOCOLATE SANDWICH COOKIES' 'ALL-SEASONS SALT'\n",
      " 'ROBUST GOLDEN UNSWEETENED OOLONG TEA' ... 'ARTISAN BAGUETTE'\n",
      " 'SMARTBLEND HEALTHY METABOLISM DRY CAT FOOD' 'FRESH FOAMING CLEANSER']\n",
      "\n",
      "0\n"
     ]
    }
   ],
   "source": [
    "# Revisa si hay nombres duplicados de productos no faltantes\n",
    "\n",
    "print(products_df[\"product_name\"].value_counts(dropna=False))\n",
    "print()\n",
    "print(products_df[\"product_name\"].unique())\n",
    "print()\n",
    "print(products_df[~products_df[\"product_name\"].isna()].duplicated().sum())\n"
   ]
  },
  {
   "cell_type": "code",
   "execution_count": 23,
   "id": "d1f20449",
   "metadata": {},
   "outputs": [
    {
     "name": "stdout",
     "output_type": "stream",
     "text": [
      "       product_id                                     product_name  aisle_id  \\\n",
      "2058         2059                                  BIOTIN 1000 MCG        47   \n",
      "5455         5456                 GREEN TEA WITH GINSENG AND HONEY        96   \n",
      "5558         5559                           CREAM OF MUSHROOM SOUP        69   \n",
      "7558         7559                        CINNAMON ROLLS WITH ICING       105   \n",
      "9037         9038                           AMERICAN CHEESE SLICES        21   \n",
      "...           ...                                              ...       ...   \n",
      "49689       49690                    HIGH PERFORMANCE ENERGY DRINK        64   \n",
      "49690       49691                    ORIGINAL PANCAKE & WAFFLE MIX       130   \n",
      "49691       49692  ORGANIC INSTANT OATMEAL LIGHT MAPLE BROWN SUGAR       130   \n",
      "49692       49693                           SPRING WATER BODY WASH       127   \n",
      "49693       49694                          BURRITO- STEAK & CHEESE        38   \n",
      "\n",
      "       department_id  \n",
      "2058              11  \n",
      "5455              20  \n",
      "5558              15  \n",
      "7558              13  \n",
      "9037              16  \n",
      "...              ...  \n",
      "49689              7  \n",
      "49690             14  \n",
      "49691             14  \n",
      "49692             11  \n",
      "49693              1  \n",
      "\n",
      "[104 rows x 4 columns]\n"
     ]
    }
   ],
   "source": [
    "# Decidi hacer un filtro nuevo teniendo en cuenta las sugerencias.\n",
    "\n",
    "print(products_df[(products_df[\"product_name\"].duplicated()) & ~(products_df[\"product_name\"].isna())])"
   ]
  },
  {
   "cell_type": "code",
   "execution_count": 24,
   "id": "5715aa4e",
   "metadata": {},
   "outputs": [
    {
     "name": "stdout",
     "output_type": "stream",
     "text": [
      "2058                                     BIOTIN 1000 MCG\n",
      "5455                    GREEN TEA WITH GINSENG AND HONEY\n",
      "5558                              CREAM OF MUSHROOM SOUP\n",
      "7558                           CINNAMON ROLLS WITH ICING\n",
      "9037                              AMERICAN CHEESE SLICES\n",
      "                              ...                       \n",
      "49689                      HIGH PERFORMANCE ENERGY DRINK\n",
      "49690                      ORIGINAL PANCAKE & WAFFLE MIX\n",
      "49691    ORGANIC INSTANT OATMEAL LIGHT MAPLE BROWN SUGAR\n",
      "49692                             SPRING WATER BODY WASH\n",
      "49693                            BURRITO- STEAK & CHEESE\n",
      "Name: product_name, Length: 104, dtype: object\n"
     ]
    }
   ],
   "source": [
    "# Mostramos la columna \"product_name\" y asi saber cuales son los nombres duplicados y la cantidad de nombres respectiva\n",
    "\n",
    "print(products_df[(products_df[\"product_name\"].duplicated()) & ~(products_df[\"product_name\"].isna())][\"product_name\"])"
   ]
  },
  {
   "cell_type": "markdown",
   "id": "9da8d293",
   "metadata": {
    "id": "9da8d293"
   },
   "source": [
    "Describe brevemente tus hallazgos y lo que hiciste con ellos."
   ]
  },
  {
   "cell_type": "markdown",
   "id": "0c3d85c8",
   "metadata": {},
   "source": [
    "Vemos que esta Dataframe no tiene filas duplicadas o valores unicos duplicados por lo que no es necesario eliminar filas en este Dataframe."
   ]
  },
  {
   "cell_type": "markdown",
   "id": "820f8fb5",
   "metadata": {},
   "source": [
    "<div class=\"alert alert-block alert-info\">\n",
    "<b>\n",
    "\n",
    "Aqui procedi con las correcciones tomando en cuenta las sugerencias. Vemos que al filtrar el dataframe con products_df[(products_df[\"product_name\"].duplicated()) & ~(products_df[\"product_name\"].isna())] y despues usar duplicated() llegamos a la conclusion de que no hay nombres duplicados de productos no faltantes por lo que no es necesario eliminar filas duplicadas en este dataframe\n",
    "\n",
    "</b> <a class=\"tocSkip\"></a>\n",
    "</div>"
   ]
  },
  {
   "cell_type": "markdown",
   "id": "c9e7f9c4",
   "metadata": {},
   "source": [
    "<div class=\"alert alert-block alert-info\">\n",
    "<b>\n",
    "\n",
    "Codigo fue editado y corregido. Vemos que hay 104 nombres duplicados sin tener en cuenta los valores ausentes o nombres duplicados ausentes. Ya que no tenemos filas completamente duplicadas no es necesario eliminar filas. Los nombre duplicados son completamente normales en esta columna.\n",
    "\n",
    "</b> <a class=\"tocSkip\"></a>\n",
    "</div>"
   ]
  },
  {
   "cell_type": "markdown",
   "id": "60f30db1",
   "metadata": {
    "id": "60f30db1"
   },
   "source": [
    "### `departments` data frame"
   ]
  },
  {
   "cell_type": "code",
   "execution_count": 25,
   "id": "fb410ad4-0fbf-4b80-bb09-23fdea79afe3",
   "metadata": {
    "id": "fb410ad4-0fbf-4b80-bb09-23fdea79afe3"
   },
   "outputs": [
    {
     "name": "stdout",
     "output_type": "stream",
     "text": [
      "0\n"
     ]
    }
   ],
   "source": [
    "# Revisa si hay filas totalmente duplicadas\n",
    "\n",
    "print(departments_df.duplicated().sum())"
   ]
  },
  {
   "cell_type": "code",
   "execution_count": 26,
   "id": "332b12bb",
   "metadata": {
    "id": "332b12bb"
   },
   "outputs": [
    {
     "name": "stdout",
     "output_type": "stream",
     "text": [
      "0\n"
     ]
    }
   ],
   "source": [
    "# Revisa únicamente si hay IDs duplicadas de productos\n",
    "\n",
    "print(departments_df[\"department_id\"].duplicated().sum())"
   ]
  },
  {
   "cell_type": "markdown",
   "id": "bd30d78e",
   "metadata": {
    "id": "bd30d78e"
   },
   "source": [
    "Describe brevemente tus hallazgos y lo que hiciste con ellos."
   ]
  },
  {
   "cell_type": "markdown",
   "id": "f3abd0c3",
   "metadata": {},
   "source": [
    "Aqui tampoco tenemos filas duplicadas por lo que no es necesario eliminar filas."
   ]
  },
  {
   "cell_type": "markdown",
   "id": "889349c1",
   "metadata": {
    "id": "889349c1"
   },
   "source": [
    "### `aisles` data frame"
   ]
  },
  {
   "cell_type": "code",
   "execution_count": 27,
   "id": "9da89fb9-4679-40f5-ad0d-c34df753a3f8",
   "metadata": {
    "id": "9da89fb9-4679-40f5-ad0d-c34df753a3f8"
   },
   "outputs": [
    {
     "name": "stdout",
     "output_type": "stream",
     "text": [
      "0\n"
     ]
    }
   ],
   "source": [
    "# Revisa si hay filas totalmente duplicadas\n",
    "\n",
    "print(aisles_df.duplicated().sum())"
   ]
  },
  {
   "cell_type": "code",
   "execution_count": 28,
   "id": "da7c2822",
   "metadata": {
    "id": "da7c2822"
   },
   "outputs": [
    {
     "name": "stdout",
     "output_type": "stream",
     "text": [
      "0\n"
     ]
    }
   ],
   "source": [
    "# Revisa únicamente si hay IDs duplicadas de productos\n",
    "\n",
    "print(aisles_df[\"aisle_id\"].duplicated().sum())"
   ]
  },
  {
   "cell_type": "markdown",
   "id": "ac63826f",
   "metadata": {
    "id": "ac63826f"
   },
   "source": [
    "Describe brevemente tus hallazgos y lo que hiciste con ellos."
   ]
  },
  {
   "cell_type": "markdown",
   "id": "3eaa72e1",
   "metadata": {},
   "source": [
    "No filas duplicadas en este Dataframe por lo que no es necesario eliminar o tratar columnas."
   ]
  },
  {
   "cell_type": "markdown",
   "id": "274cd06a",
   "metadata": {
    "id": "274cd06a"
   },
   "source": [
    "### `order_products` data frame"
   ]
  },
  {
   "cell_type": "code",
   "execution_count": 29,
   "id": "52326689-84a8-4b8f-a881-7c68780f62c9",
   "metadata": {
    "id": "52326689-84a8-4b8f-a881-7c68780f62c9"
   },
   "outputs": [
    {
     "name": "stdout",
     "output_type": "stream",
     "text": [
      "0\n"
     ]
    }
   ],
   "source": [
    "# Revisa si hay filas totalmente duplicadas\n",
    "\n",
    "print(order_products_df.duplicated().sum())\n"
   ]
  },
  {
   "cell_type": "code",
   "execution_count": 30,
   "id": "7b861391",
   "metadata": {
    "id": "7b861391"
   },
   "outputs": [
    {
     "name": "stdout",
     "output_type": "stream",
     "text": [
      "         order_id  product_id  add_to_cart_order  reordered\n",
      "737       2449164        5068                NaN          0\n",
      "9926      1968313       43867                NaN          0\n",
      "14394     2926893       11688                NaN          0\n",
      "16418     1717990        4142                NaN          0\n",
      "30114     1959075       42828                NaN          1\n",
      "...           ...         ...                ...        ...\n",
      "4505662   1800005        7411                NaN          0\n",
      "4511400   1633337         260                NaN          0\n",
      "4517562    404157        9517                NaN          0\n",
      "4534112   1673227       17835                NaN          0\n",
      "4535739   1832957       17949                NaN          1\n",
      "\n",
      "[836 rows x 4 columns]\n",
      "\n",
      "836\n",
      "\n",
      "0\n"
     ]
    }
   ],
   "source": [
    "# Vuelve a verificar si hay cualquier otro duplicado engañoso\n",
    "\n",
    "print(order_products_df[order_products_df[\"add_to_cart_order\"].isna()])\n",
    "print()\n",
    "print(order_products_df[\"add_to_cart_order\"].isna().sum())\n",
    "print()\n",
    "print(order_products_df[~order_products_df[\"add_to_cart_order\"].isna()].duplicated().sum())"
   ]
  },
  {
   "cell_type": "markdown",
   "id": "0b890492",
   "metadata": {
    "id": "0b890492"
   },
   "source": [
    "Describe brevemente tus hallazgos y lo que hiciste con ellos."
   ]
  },
  {
   "cell_type": "markdown",
   "id": "9f8d37a6",
   "metadata": {},
   "source": [
    "Aqui tenemos valores ausentes en la columna add_to_cart_order como lo esperado pero el Dataframe no tiene filas completamente duplicadas por lo que no es necesario eliminar filas."
   ]
  },
  {
   "cell_type": "markdown",
   "id": "1e46de76",
   "metadata": {
    "id": "1e46de76"
   },
   "source": [
    "## Encuentra y elimina los valores ausentes\n",
    "\n",
    "Al trabajar con valores duplicados, pudimos observar que también nos falta investigar valores ausentes:\n",
    "\n",
    "* La columna `'product_name'` de la tabla products.\n",
    "* La columna `'days_since_prior_order'` de la tabla orders.\n",
    "* La columna `'add_to_cart_order'` de la tabla order_productos."
   ]
  },
  {
   "cell_type": "markdown",
   "id": "c0aebd78",
   "metadata": {
    "id": "c0aebd78"
   },
   "source": [
    "### `products` data frame"
   ]
  },
  {
   "cell_type": "code",
   "execution_count": 31,
   "id": "fe4a8b0f",
   "metadata": {
    "id": "fe4a8b0f"
   },
   "outputs": [
    {
     "name": "stdout",
     "output_type": "stream",
     "text": [
      "product_id          0\n",
      "product_name     1258\n",
      "aisle_id            0\n",
      "department_id       0\n",
      "dtype: int64\n",
      "\n",
      "       product_id product_name  aisle_id  department_id\n",
      "37             38          NaN       100             21\n",
      "71             72          NaN       100             21\n",
      "109           110          NaN       100             21\n",
      "296           297          NaN       100             21\n",
      "416           417          NaN       100             21\n",
      "...           ...          ...       ...            ...\n",
      "49552       49553          NaN       100             21\n",
      "49574       49575          NaN       100             21\n",
      "49640       49641          NaN       100             21\n",
      "49663       49664          NaN       100             21\n",
      "49668       49669          NaN       100             21\n",
      "\n",
      "[1258 rows x 4 columns]\n"
     ]
    }
   ],
   "source": [
    "# Encuentra los valores ausentes en la columna 'product_name'\n",
    "\n",
    "print(products_df.isna().sum())\n",
    "print()\n",
    "print(products_df[products_df[\"product_name\"].isna()])"
   ]
  },
  {
   "cell_type": "markdown",
   "id": "-A6x1AbJhjkp",
   "metadata": {
    "id": "-A6x1AbJhjkp"
   },
   "source": [
    "Describe brevemente cuáles son tus hallazgos."
   ]
  },
  {
   "cell_type": "markdown",
   "id": "a07317a9",
   "metadata": {},
   "source": [
    "Tenemos 1258 valores ausentes en la columna product_name como lo esperado. Al parecer los valores ausentes en esta columna se relacionan con las columnas aisle_id y department_id ya que ambas columnas presentas los mismos valores."
   ]
  },
  {
   "cell_type": "code",
   "execution_count": 32,
   "id": "e96167bc",
   "metadata": {
    "id": "e96167bc"
   },
   "outputs": [
    {
     "name": "stdout",
     "output_type": "stream",
     "text": [
      "       product_id product_name  aisle_id  department_id\n",
      "37             38          NaN       100             21\n",
      "71             72          NaN       100             21\n",
      "109           110          NaN       100             21\n",
      "296           297          NaN       100             21\n",
      "416           417          NaN       100             21\n",
      "...           ...          ...       ...            ...\n",
      "49552       49553          NaN       100             21\n",
      "49574       49575          NaN       100             21\n",
      "49640       49641          NaN       100             21\n",
      "49663       49664          NaN       100             21\n",
      "49668       49669          NaN       100             21\n",
      "\n",
      "[1258 rows x 4 columns]\n"
     ]
    }
   ],
   "source": [
    "#  ¿Todos los nombres de productos ausentes están relacionados con el pasillo con ID 100?\n",
    "\n",
    "print(products_df[(products_df[\"product_name\"].isna()) & (products_df[\"aisle_id\"] == 100)])\n"
   ]
  },
  {
   "cell_type": "markdown",
   "id": "WRpIfXRphpSL",
   "metadata": {
    "id": "WRpIfXRphpSL"
   },
   "source": [
    "Describe brevemente cuáles son tus hallazgos."
   ]
  },
  {
   "cell_type": "markdown",
   "id": "50919231",
   "metadata": {},
   "source": [
    "En este caso vemos que tenemos igual numero de filas en ambos casos 1258 por lo que son el mismo numero valores ausentes incluso con el filtro. Los valores ausentes están relacionados con el pasillo con ID 100."
   ]
  },
  {
   "cell_type": "code",
   "execution_count": 33,
   "id": "8fd0a541",
   "metadata": {
    "id": "8fd0a541"
   },
   "outputs": [
    {
     "name": "stdout",
     "output_type": "stream",
     "text": [
      "       product_id product_name  aisle_id  department_id\n",
      "37             38          NaN       100             21\n",
      "71             72          NaN       100             21\n",
      "109           110          NaN       100             21\n",
      "296           297          NaN       100             21\n",
      "416           417          NaN       100             21\n",
      "...           ...          ...       ...            ...\n",
      "49552       49553          NaN       100             21\n",
      "49574       49575          NaN       100             21\n",
      "49640       49641          NaN       100             21\n",
      "49663       49664          NaN       100             21\n",
      "49668       49669          NaN       100             21\n",
      "\n",
      "[1258 rows x 4 columns]\n"
     ]
    }
   ],
   "source": [
    "# ¿Todos los nombres de productos ausentes están relacionados con el departamento con ID 21?\n",
    "\n",
    "print(products_df[(products_df[\"product_name\"].isna()) & (products_df[\"department_id\"] == 21)])\n"
   ]
  },
  {
   "cell_type": "markdown",
   "id": "qDpdYn1Fht_I",
   "metadata": {
    "id": "qDpdYn1Fht_I"
   },
   "source": [
    "Describe brevemente cuáles son tus hallazgos."
   ]
  },
  {
   "cell_type": "markdown",
   "id": "b18bea82",
   "metadata": {},
   "source": [
    "Aqui vemos que tenemos el mismo numero de filas 1258 con valores ausentes por lo tambien podemos decir que los valores estan relacionados con el departament con ID 21."
   ]
  },
  {
   "cell_type": "code",
   "execution_count": 34,
   "id": "325c3464",
   "metadata": {
    "id": "325c3464"
   },
   "outputs": [
    {
     "name": "stdout",
     "output_type": "stream",
     "text": [
      "       product_id product_name  aisle_id  department_id\n",
      "37             38          NaN       100             21\n",
      "71             72          NaN       100             21\n",
      "109           110          NaN       100             21\n",
      "296           297          NaN       100             21\n",
      "416           417          NaN       100             21\n",
      "...           ...          ...       ...            ...\n",
      "49552       49553          NaN       100             21\n",
      "49574       49575          NaN       100             21\n",
      "49640       49641          NaN       100             21\n",
      "49663       49664          NaN       100             21\n",
      "49668       49669          NaN       100             21\n",
      "\n",
      "[1258 rows x 4 columns]\n"
     ]
    }
   ],
   "source": [
    "# Usa las tablas department y aisle para revisar los datos del pasillo con ID 100 y el departamento con ID 21.\n",
    "\n",
    "print(products_df[(products_df[\"product_name\"].isna()) & (products_df[\"aisle_id\"] == 100) & (products_df[\"department_id\"] == 21)])\n"
   ]
  },
  {
   "cell_type": "markdown",
   "id": "nqhSTUPhhvEJ",
   "metadata": {
    "id": "nqhSTUPhhvEJ"
   },
   "source": [
    "Describe brevemente cuáles son tus hallazgos."
   ]
  },
  {
   "cell_type": "markdown",
   "id": "f1e7c212",
   "metadata": {},
   "source": [
    "Aqui obtenemos el mismo resultado es decir igual numero de filas lo que nos confirma que hay la misma cantidad de valores ausentes incluso con los datos del pasillo con ID 100 y el departamento con ID 21. En este caso, podemos decir que todos los valores ausentes de este Dataframe tienen el mismo ID para el pasillo y departamento."
   ]
  },
  {
   "cell_type": "code",
   "execution_count": 35,
   "id": "6b295120",
   "metadata": {
    "id": "6b295120"
   },
   "outputs": [
    {
     "name": "stdout",
     "output_type": "stream",
     "text": [
      "0\n"
     ]
    }
   ],
   "source": [
    "# Completa los nombres de productos ausentes con 'Unknown'\n",
    "\n",
    "# En este caso podemos usar el metodo where(), tambien se puede hacer con fillna() pero decidi hacerlo de forma alternativa.\n",
    "\n",
    "products_df[\"product_name\"] = products_df[\"product_name\"].where(~(products_df[\"product_name\"].isna()), \"Unknown\")\n",
    "print(products_df[\"product_name\"].isna().sum())\n",
    "\n"
   ]
  },
  {
   "cell_type": "code",
   "execution_count": 36,
   "id": "7ccbc354",
   "metadata": {},
   "outputs": [
    {
     "name": "stdout",
     "output_type": "stream",
     "text": [
      "product_name\n",
      "Unknown                                                                 1258\n",
      "GREEN TEA WITH GINSENG AND HONEY                                           3\n",
      "CARROT AND CELERY STICKS                                                   2\n",
      "APRICOT ENERGY BAR                                                         2\n",
      "PROACTIVE HEALTH INDOOR WEIGHT & HAIRBALL CARE WITH CHICKEN CAT FOOD       2\n",
      "                                                                        ... \n",
      "ALL NATURAL CHICKEN APPLE SAUSAGE                                          1\n",
      "QUARTERED ARTICHOKE HEARTS                                                 1\n",
      "BIG EYE IPA                                                                1\n",
      "UNSTOPABLES LUSH                                                           1\n",
      "FRESH FOAMING CLEANSER                                                     1\n",
      "Name: count, Length: 48333, dtype: int64\n"
     ]
    }
   ],
   "source": [
    "print(products_df[\"product_name\"].value_counts(dropna=False))"
   ]
  },
  {
   "cell_type": "markdown",
   "id": "fc70e5ad",
   "metadata": {
    "id": "fc70e5ad"
   },
   "source": [
    "Describe brevemente tus hallazgos y lo que hiciste con ellos."
   ]
  },
  {
   "cell_type": "markdown",
   "id": "ac7ee481",
   "metadata": {},
   "source": [
    "Como no hay forma de saber el nombre del producto reemplazamos los valores ausentes por \"Unknown\" ya que esta es una variable categorica."
   ]
  },
  {
   "cell_type": "markdown",
   "id": "7eb45c86",
   "metadata": {
    "id": "7eb45c86"
   },
   "source": [
    "### `orders` data frame"
   ]
  },
  {
   "cell_type": "code",
   "execution_count": 37,
   "id": "93e41d96",
   "metadata": {
    "id": "93e41d96"
   },
   "outputs": [
    {
     "name": "stdout",
     "output_type": "stream",
     "text": [
      "order_id                      0\n",
      "user_id                       0\n",
      "order_number                  0\n",
      "order_dow                     0\n",
      "order_hour_of_day             0\n",
      "days_since_prior_order    28817\n",
      "dtype: int64\n",
      "\n",
      "        order_id  user_id  order_number  order_dow  order_hour_of_day  \\\n",
      "28        133707   182261             1          3                 10   \n",
      "96        787445    25685             1          6                 18   \n",
      "100       294410   111449             1          0                 19   \n",
      "103      2869915   123958             1          4                 16   \n",
      "104      2521921    42286             1          3                 18   \n",
      "...          ...      ...           ...        ...                ...   \n",
      "478880   2589657   205028             1          0                 16   \n",
      "478881   2222353   141211             1          2                 13   \n",
      "478907   2272807   204154             1          1                 15   \n",
      "478911   2499542    68810             1          4                 19   \n",
      "478930   1387033    22496             1          5                 14   \n",
      "\n",
      "        days_since_prior_order  \n",
      "28                         NaN  \n",
      "96                         NaN  \n",
      "100                        NaN  \n",
      "103                        NaN  \n",
      "104                        NaN  \n",
      "...                        ...  \n",
      "478880                     NaN  \n",
      "478881                     NaN  \n",
      "478907                     NaN  \n",
      "478911                     NaN  \n",
      "478930                     NaN  \n",
      "\n",
      "[28817 rows x 6 columns]\n"
     ]
    }
   ],
   "source": [
    "# Encuentra los valores ausentes\n",
    "\n",
    "print(orders_df.isna().sum())\n",
    "print()\n",
    "print(orders_df[orders_df[\"days_since_prior_order\"].isna()])"
   ]
  },
  {
   "cell_type": "code",
   "execution_count": 38,
   "id": "166e5a86",
   "metadata": {
    "id": "166e5a86"
   },
   "outputs": [
    {
     "name": "stdout",
     "output_type": "stream",
     "text": [
      "Empty DataFrame\n",
      "Columns: [order_id, user_id, order_number, order_dow, order_hour_of_day, days_since_prior_order]\n",
      "Index: []\n"
     ]
    }
   ],
   "source": [
    "# ¿Hay algún valor ausente que no sea el primer pedido del cliente?\n",
    "\n",
    "print(orders_df[(orders_df[\"days_since_prior_order\"].isna()) & ~(orders_df[\"order_number\"]==1)])\n"
   ]
  },
  {
   "cell_type": "code",
   "execution_count": 39,
   "id": "cd5e701f",
   "metadata": {},
   "outputs": [
    {
     "name": "stdout",
     "output_type": "stream",
     "text": [
      "0\n"
     ]
    }
   ],
   "source": [
    "# En este caso decidi usar where() nuevamente para reemplazar los valores ausentes por 0 en la columna deseada. \n",
    "\n",
    "orders_df[\"days_since_prior_order\"] = orders_df[\"days_since_prior_order\"].where(~(orders_df[\"days_since_prior_order\"].isna()), 0)\n",
    "print(orders_df[\"days_since_prior_order\"].isna().sum())"
   ]
  },
  {
   "cell_type": "markdown",
   "id": "4e23d089",
   "metadata": {
    "id": "4e23d089"
   },
   "source": [
    "Describe brevemente tus hallazgos y lo que hiciste con ellos."
   ]
  },
  {
   "cell_type": "markdown",
   "id": "c97ad761",
   "metadata": {},
   "source": [
    "Vemos que tenemos *28817* valores ausentes en la columna \"days_since_prior_order\", para este caso hay que tener en cuenta que la columna es un tipo de dato entero y que todos los valores ausentes solo se presentan cuando order_numer es igual a 1 esto significa que todos los valores ausentes de esta columna equivalen al primer pedido de los clientes. Como es el primer pedido podemos decir que los valores de esta columan deberian ser 0."
   ]
  },
  {
   "cell_type": "markdown",
   "id": "69dc9ca4",
   "metadata": {
    "id": "69dc9ca4"
   },
   "source": [
    "### `order_products` data frame"
   ]
  },
  {
   "cell_type": "code",
   "execution_count": 40,
   "id": "b8240253",
   "metadata": {
    "id": "b8240253"
   },
   "outputs": [
    {
     "name": "stdout",
     "output_type": "stream",
     "text": [
      "order_id               0\n",
      "product_id             0\n",
      "add_to_cart_order    836\n",
      "reordered              0\n",
      "dtype: int64\n",
      "\n",
      "         order_id  product_id  add_to_cart_order  reordered\n",
      "737       2449164        5068                NaN          0\n",
      "9926      1968313       43867                NaN          0\n",
      "14394     2926893       11688                NaN          0\n",
      "16418     1717990        4142                NaN          0\n",
      "30114     1959075       42828                NaN          1\n",
      "...           ...         ...                ...        ...\n",
      "4505662   1800005        7411                NaN          0\n",
      "4511400   1633337         260                NaN          0\n",
      "4517562    404157        9517                NaN          0\n",
      "4534112   1673227       17835                NaN          0\n",
      "4535739   1832957       17949                NaN          1\n",
      "\n",
      "[836 rows x 4 columns]\n"
     ]
    }
   ],
   "source": [
    "# Encuentra los valores ausentes\n",
    "\n",
    "print(order_products_df.isna().sum())\n",
    "print()\n",
    "print(order_products_df[order_products_df[\"add_to_cart_order\"].isna()])\n"
   ]
  },
  {
   "cell_type": "code",
   "execution_count": 41,
   "id": "9a78e5ee",
   "metadata": {
    "id": "9a78e5ee"
   },
   "outputs": [
    {
     "name": "stdout",
     "output_type": "stream",
     "text": [
      "count    4.544171e+06\n",
      "mean     8.351669e+00\n",
      "std      7.080368e+00\n",
      "min      1.000000e+00\n",
      "25%      3.000000e+00\n",
      "50%      6.000000e+00\n",
      "75%      1.100000e+01\n",
      "max      6.400000e+01\n",
      "Name: add_to_cart_order, dtype: float64\n",
      "1.0 64.0\n"
     ]
    }
   ],
   "source": [
    "# ¿Cuáles son los valores mínimos y máximos en esta columna?\n",
    "\n",
    "print(order_products_df[\"add_to_cart_order\"].describe())\n",
    "\n",
    "print(order_products_df[\"add_to_cart_order\"].min(),order_products_df[\"add_to_cart_order\"].max())\n"
   ]
  },
  {
   "cell_type": "markdown",
   "id": "-Z2Ja215jW78",
   "metadata": {
    "id": "-Z2Ja215jW78"
   },
   "source": [
    "Describe brevemente cuáles son tus hallazgos."
   ]
  },
  {
   "cell_type": "markdown",
   "id": "5c980e4a",
   "metadata": {},
   "source": [
    "La columna \"add_to_cart_order\" varia en el rango de entre 1 y 64."
   ]
  },
  {
   "cell_type": "code",
   "execution_count": 42,
   "id": "ab9d0c2b",
   "metadata": {
    "id": "ab9d0c2b"
   },
   "outputs": [
    {
     "name": "stdout",
     "output_type": "stream",
     "text": [
      "737        2449164\n",
      "9926       1968313\n",
      "14394      2926893\n",
      "16418      1717990\n",
      "30114      1959075\n",
      "            ...   \n",
      "4505662    1800005\n",
      "4511400    1633337\n",
      "4517562     404157\n",
      "4534112    1673227\n",
      "4535739    1832957\n",
      "Name: order_id, Length: 836, dtype: int64\n"
     ]
    }
   ],
   "source": [
    "# Guarda todas las IDs de pedidos que tengan un valor ausente en 'add_to_cart_order'\n",
    "\n",
    "print(order_products_df[order_products_df[\"add_to_cart_order\"].isna()][\"order_id\"])\n"
   ]
  },
  {
   "cell_type": "code",
   "execution_count": 43,
   "id": "54c31695",
   "metadata": {
    "id": "54c31695"
   },
   "outputs": [
    {
     "name": "stdout",
     "output_type": "stream",
     "text": [
      "order_id\n",
      "9310        1\n",
      "747668      1\n",
      "1598369     1\n",
      "1677118     1\n",
      "2170451     1\n",
      "           ..\n",
      "1959075    34\n",
      "171934     40\n",
      "2136777    44\n",
      "3308010    51\n",
      "61355      63\n",
      "Name: product_id, Length: 70, dtype: int64\n"
     ]
    }
   ],
   "source": [
    "# ¿Todos los pedidos con valores ausentes tienen más de 64 productos?\n",
    "# Agrupa todos los pedidos con datos ausentes por su ID de pedido.\n",
    "# Cuenta el número de 'product_id' en cada pedido y revisa el valor mínimo del conteo.\n",
    "\n",
    "print(order_products_df[order_products_df[\"add_to_cart_order\"].isna()].groupby(\"order_id\")[\"product_id\"].count().sort_values())\n",
    "\n"
   ]
  },
  {
   "cell_type": "code",
   "execution_count": 44,
   "id": "6364f297",
   "metadata": {},
   "outputs": [],
   "source": [
    "# Creanos una nueva variable order_products_filter para guardar el dataframe filtrado\n",
    "\n",
    "order_products_filter = order_products_df[order_products_df[\"add_to_cart_order\"].isna()][\"order_id\"]"
   ]
  },
  {
   "cell_type": "code",
   "execution_count": 45,
   "id": "6e064340",
   "metadata": {},
   "outputs": [
    {
     "name": "stdout",
     "output_type": "stream",
     "text": [
      "order_id\n",
      "9310        65\n",
      "747668      65\n",
      "1598369     65\n",
      "1677118     65\n",
      "2170451     65\n",
      "          ... \n",
      "1959075     98\n",
      "171934     104\n",
      "2136777    108\n",
      "3308010    115\n",
      "61355      127\n",
      "Name: product_id, Length: 70, dtype: int64\n"
     ]
    }
   ],
   "source": [
    "# Usamos isin() para filtrar las columnas con valores ausentes y despues agrupar el dataframe para mostrar product_id\n",
    "\n",
    "print(order_products_df[order_products_df[\"order_id\"].isin(order_products_filter)].groupby(\"order_id\")[\"product_id\"].count().sort_values())"
   ]
  },
  {
   "cell_type": "markdown",
   "id": "p9V6pddtjglj",
   "metadata": {
    "id": "p9V6pddtjglj"
   },
   "source": [
    "Describe brevemente cuáles son tus hallazgos."
   ]
  },
  {
   "cell_type": "markdown",
   "id": "d4980756",
   "metadata": {},
   "source": [
    "Los pedidos con valores ausentes en la columna \"add_to_cart_order\" tienen mas de 64 productos. Vemos que la cantidad de productos con valores ausentes va desde 65 hasta 127 productos dependiendo del order_id."
   ]
  },
  {
   "cell_type": "markdown",
   "id": "67062f22",
   "metadata": {},
   "source": [
    "<div class=\"alert alert-block alert-info\">\n",
    "<b>\n",
    "\n",
    "Decidi crear una nueva variable llamanda order_products_filter para guardar el dataframe filtrado. Luego, use el metodo isin() para filtrar las columnas con valores ausentes y despues agrupar el dataframe para mostrar product_id y aplicar count() en esa columna. \n",
    "    \n",
    "Podemos ver que los pedidos con valores ausentes en la columna \"add_to_cart_order\" tienen mas de 64 productos y notamos que la cantidad de productos con valores ausentes va desde 65 hasta 127 productos dependiendo del order_id.\n",
    "\n",
    "</b> <a class=\"tocSkip\"></a>\n",
    "</div>"
   ]
  },
  {
   "cell_type": "code",
   "execution_count": 46,
   "id": "7a987d08",
   "metadata": {
    "id": "7a987d08"
   },
   "outputs": [
    {
     "name": "stdout",
     "output_type": "stream",
     "text": [
      "<class 'pandas.core.frame.DataFrame'>\n",
      "RangeIndex: 4545007 entries, 0 to 4545006\n",
      "Data columns (total 4 columns):\n",
      " #   Column             Non-Null Count    Dtype\n",
      "---  ------             --------------    -----\n",
      " 0   order_id           4545007 non-null  int64\n",
      " 1   product_id         4545007 non-null  int64\n",
      " 2   add_to_cart_order  4545007 non-null  int32\n",
      " 3   reordered          4545007 non-null  int64\n",
      "dtypes: int32(1), int64(3)\n",
      "memory usage: 121.4 MB\n"
     ]
    }
   ],
   "source": [
    "# Remplaza los valores ausentes en la columna 'add_to_cart? con 999 y convierte la columna al tipo entero.\n",
    "\n",
    "# Para este caso decidi usar where() para reemplazar los valores ausentes y el astype() para convertir los flotantes a tipo entero\n",
    "\n",
    "order_products_df[\"add_to_cart_order\"] = order_products_df[\"add_to_cart_order\"].where(~(order_products_df[\"add_to_cart_order\"].isna()), 999)\n",
    "order_products_df[\"add_to_cart_order\"] = order_products_df[\"add_to_cart_order\"].astype(\"int\")\n",
    "order_products_df.info(show_counts=True)\n",
    "\n",
    "\n"
   ]
  },
  {
   "cell_type": "code",
   "execution_count": 48,
   "id": "5ecfb750",
   "metadata": {},
   "outputs": [
    {
     "name": "stdout",
     "output_type": "stream",
     "text": [
      "0\n"
     ]
    }
   ],
   "source": [
    "print(order_products_df[\"add_to_cart_order\"].isna().sum())"
   ]
  },
  {
   "cell_type": "markdown",
   "id": "fea4bcc7",
   "metadata": {
    "id": "fea4bcc7"
   },
   "source": [
    "Describe brevemente tus hallazgos y lo que hiciste con ellos."
   ]
  },
  {
   "cell_type": "markdown",
   "id": "eb93a8b5",
   "metadata": {},
   "source": [
    "En este caso al usar count() en la columna add_to_cart_order y agrupar por product_id vemos que los valores ausentes tienen menos de 64 productos y por lo tanto podemos reemplazar los valores ausentes por el numero sugerido en los comentarios del projecto. Una vez remplazados los valores ausentes verificamos que todos los datos sean enteros."
   ]
  },
  {
   "cell_type": "markdown",
   "id": "RnplPFY1gSrb",
   "metadata": {
    "id": "RnplPFY1gSrb"
   },
   "source": [
    "## Conclusiones\n",
    "\n",
    "Escribe aquí tus conclusiones intermedias sobre el Paso 2. Preprocesamiento de los datos\n"
   ]
  },
  {
   "cell_type": "markdown",
   "id": "d9b4c2df",
   "metadata": {},
   "source": [
    "Ya con esto finalizamos el procesamiento de datos, podemos concluir que decidimos reemplazar los valores ausentes dependiendo de los valores relevantes en las otras columnas del respectivo Dataframe. Comunmente los valores ausentes numericos son reemplazados ya sea por la media o la mediana dependiendo de las diferentes columnas que se tengan en el Dataframe pero para este caso los valores son demasiado atipicos y por lo tanto decidi usar el valor de los comentarios del projecto. Eliminamos las filas duplicados asegurandonos de que esos datos no afecten los calculos que se van a necesitar mas adelante.\n",
    "\n",
    "Pudimos notar que algunos valores ausentes en la columna \"add_to_cart_order\" afectaron nuestro dataframe y por ser valores tan significativos los reemplazamos por 999 como lo sugeria los comentarios del projecto."
   ]
  },
  {
   "cell_type": "markdown",
   "id": "UjrOIwTcz3ri",
   "metadata": {
    "id": "UjrOIwTcz3ri"
   },
   "source": [
    "# Paso 3. Análisis de los datos"
   ]
  },
  {
   "cell_type": "markdown",
   "id": "turkish-kidney",
   "metadata": {
    "id": "turkish-kidney"
   },
   "source": [
    "# [A] \n",
    "\n",
    "1. Verifica que los valores en las columnas `'order_hour_of_day'` y `'order_dow'` en la tabla orders sean razonables (es decir, `'order_hour_of_day'` oscile entre 0 y 23 y `'order_dow'` oscile entre 0 y 6).\n",
    "2. Crea un gráfico que muestre el número de personas que hacen pedidos dependiendo de la hora del día.\n",
    "3. Crea un gráfico que muestre qué día de la semana la gente hace sus compras.\n",
    "4. Crea un gráfico que muestre el tiempo que la gente espera hasta hacer su siguiente pedido, y comenta sobre los valores mínimos y máximos."
   ]
  },
  {
   "cell_type": "markdown",
   "id": "short-capability",
   "metadata": {
    "id": "short-capability"
   },
   "source": [
    "### [A1] Verifica que los valores sean sensibles"
   ]
  },
  {
   "cell_type": "code",
   "execution_count": 49,
   "id": "growing-fruit",
   "metadata": {
    "id": "growing-fruit"
   },
   "outputs": [
    {
     "name": "stdout",
     "output_type": "stream",
     "text": [
      "count    478952.000000\n",
      "mean         13.447034\n",
      "std           4.224567\n",
      "min           0.000000\n",
      "25%          10.000000\n",
      "50%          13.000000\n",
      "75%          16.000000\n",
      "max          23.000000\n",
      "Name: order_hour_of_day, dtype: float64\n"
     ]
    }
   ],
   "source": [
    "# Aqui podemos usar describe() para verificar los valores maximos y minimos en la columna.\n",
    "\n",
    "print(orders_df[\"order_hour_of_day\"].describe())"
   ]
  },
  {
   "cell_type": "code",
   "execution_count": 50,
   "id": "accessory-malaysia",
   "metadata": {
    "id": "accessory-malaysia"
   },
   "outputs": [
    {
     "name": "stdout",
     "output_type": "stream",
     "text": [
      "count    478952.000000\n",
      "mean          2.775051\n",
      "std           2.045901\n",
      "min           0.000000\n",
      "25%           1.000000\n",
      "50%           3.000000\n",
      "75%           5.000000\n",
      "max           6.000000\n",
      "Name: order_dow, dtype: float64\n"
     ]
    }
   ],
   "source": [
    "print(orders_df[\"order_dow\"].describe())"
   ]
  },
  {
   "cell_type": "markdown",
   "id": "hmR2GNQ6lCsX",
   "metadata": {
    "id": "hmR2GNQ6lCsX"
   },
   "source": [
    "La columna \"order_hour_of_day\" tiene valores que osicila en el rango 0 y 23 y la columna \"order_dow\" entre 0 y 6 como lo esperado."
   ]
  },
  {
   "cell_type": "markdown",
   "id": "a6743a70",
   "metadata": {
    "id": "a6743a70"
   },
   "source": [
    "### [A2] Para cada hora del día, ¿cuántas personas hacen órdenes?"
   ]
  },
  {
   "cell_type": "code",
   "execution_count": 51,
   "id": "a36cca27",
   "metadata": {
    "id": "a36cca27"
   },
   "outputs": [
    {
     "data": {
      "image/png": "[encoded data removed]",
      "text/plain": [
       "<Figure size 640x480 with 1 Axes>"
      ]
     },
     "metadata": {},
     "output_type": "display_data"
    }
   ],
   "source": [
    "# Aqui decidi filtrar el Dataframe por la columna \"order_hour_of_day\" y aplicar plot() con kind=\"hist\" que\n",
    "# seria un histograme para mostrar las distribuciones\n",
    "\n",
    "\n",
    "orders_df[\"order_hour_of_day\"].plot(kind=\"hist\",\n",
    "                                    bins=20,\n",
    "                                    title=\"# of orders per hour of day\",\n",
    "                                    grid=True,\n",
    "                                    xlim=[0,24],\n",
    "                                   )\n",
    "\n",
    "plt.xlabel(\"Hour of day 24 hours format\")\n",
    "plt.ylabel(\"# of orders\")\n",
    "\n",
    "plt.show()"
   ]
  },
  {
   "cell_type": "markdown",
   "id": "11270eed",
   "metadata": {
    "id": "11270eed"
   },
   "source": [
    "Aqui vemos que mas o menos a las 3 pm hay un un pico de pedidos por lo que la hora con mas pedidos presentados es las 3 PM, podemos decir que esa es la hora con mas pedidos y la hora con mas ventas."
   ]
  },
  {
   "cell_type": "markdown",
   "id": "documented-command",
   "metadata": {
    "id": "documented-command"
   },
   "source": [
    "### [A3] ¿Qué día de la semana compran víveres las personas?"
   ]
  },
  {
   "cell_type": "code",
   "execution_count": 52,
   "id": "chief-digit",
   "metadata": {
    "id": "chief-digit"
   },
   "outputs": [
    {
     "data": {
      "image/png": "[encoded data removed]",
      "text/plain": [
       "<Figure size 640x480 with 1 Axes>"
      ]
     },
     "metadata": {},
     "output_type": "display_data"
    }
   ],
   "source": [
    "orders_df[\"order_dow\"].plot(kind=\"hist\",\n",
    "                            bins=30,\n",
    "                            title=\"# of orders per day\",\n",
    "                            grid=True,\n",
    "                            xlim=[0,6],\n",
    "                                   )\n",
    "\n",
    "plt.xlabel(\"order dow\")\n",
    "plt.ylabel(\"# of orders\")\n",
    "\n",
    "plt.show()"
   ]
  },
  {
   "cell_type": "markdown",
   "id": "dominant-lightning",
   "metadata": {
    "id": "dominant-lightning"
   },
   "source": [
    "El domingo es el dia con mas pedidos, las personas compran mas ese dia en comparacion con el resto. El domingo es un dia donde hacen mucho dinero las ventas."
   ]
  },
  {
   "cell_type": "markdown",
   "id": "cutting-concert",
   "metadata": {
    "id": "cutting-concert"
   },
   "source": [
    "### [A4] ¿Cuánto tiempo esperan las personas hasta hacer otro pedido? Comenta sobre los valores mínimos y máximos."
   ]
  },
  {
   "cell_type": "code",
   "execution_count": 53,
   "id": "c231f523",
   "metadata": {
    "id": "c231f523"
   },
   "outputs": [
    {
     "data": {
      "image/png": "[encoded data removed]",
      "text/plain": [
       "<Figure size 640x480 with 1 Axes>"
      ]
     },
     "metadata": {},
     "output_type": "display_data"
    }
   ],
   "source": [
    "orders_df[\"days_since_prior_order\"].plot(kind=\"hist\",\n",
    "                                         bins=30,\n",
    "                                         title=\"# of orders per prior order days\",\n",
    "                                         grid=True,\n",
    "                                         )\n",
    "\n",
    "plt.xlabel(\"# days since prior order\")\n",
    "plt.ylabel(\"# of orders\")\n",
    "\n",
    "plt.show()"
   ]
  },
  {
   "cell_type": "markdown",
   "id": "discrete-vertex",
   "metadata": {
    "id": "discrete-vertex"
   },
   "source": [
    "En este caso el numero de dias para hacer otro pedido con mas ordenes es 30 dias que es basicamente 1 mes, es decir, la cantidad de dias mas frecuente para hacer otro pedido es 1 mes. Las personas deciden esperar 1 mes para hacer otro pedido. "
   ]
  },
  {
   "cell_type": "markdown",
   "id": "tight-staff",
   "metadata": {
    "id": "tight-staff"
   },
   "source": [
    "# [B] \n",
    "\n",
    "1. ¿Existe alguna diferencia entre las distribuciones `'order_hour_of_day'` de los miércoles y los sábados? Traza gráficos de barra de `'order_hour_of_day'` para ambos días en la misma figura y describe las diferencias que observes.\n",
    "2. Grafica la distribución para el número de órdenes que hacen los clientes (es decir, cuántos clientes hicieron solo 1 pedido, cuántos hicieron 2, cuántos 3, y así sucesivamente...).\n",
    "3. ¿Cuáles son los 20 principales productos que se piden con más frecuencia (muestra su identificación y nombre)?"
   ]
  },
  {
   "cell_type": "markdown",
   "id": "packed-classic",
   "metadata": {
    "id": "packed-classic"
   },
   "source": [
    "### [B1] Diferencia entre miércoles y sábados para  `'order_hour_of_day'`. Traza gráficos de barra para los dos días y describe las diferencias que veas."
   ]
  },
  {
   "cell_type": "code",
   "execution_count": 54,
   "id": "d89b8403",
   "metadata": {
    "id": "d89b8403"
   },
   "outputs": [
    {
     "data": {
      "image/png": "[encoded data removed]",
      "text/plain": [
       "<Figure size 640x480 with 1 Axes>"
      ]
     },
     "metadata": {},
     "output_type": "display_data"
    }
   ],
   "source": [
    "# Decidi usar un histrograma para el dia miercoles aplicandolo en el dataframe filtrado.\n",
    "# En este caso podemos usar plot() con kind=\"hist\"\n",
    "\n",
    "orders_df[orders_df[\"order_dow\"]==3][\"order_hour_of_day\"].plot(kind=\"hist\",\n",
    "                                                              bins=20,\n",
    "                                                              title=\"# of orders in Wednesday\",\n",
    "                                                              grid=True\n",
    "                                                             )\n",
    "\n",
    "plt.xlabel(\"24 hours in Wednesday\")\n",
    "plt.ylabel(\"# of orders\")\n",
    "\n",
    "plt.show()"
   ]
  },
  {
   "cell_type": "code",
   "execution_count": 56,
   "id": "94e54e8a",
   "metadata": {
    "id": "94e54e8a"
   },
   "outputs": [
    {
     "data": {
      "image/png": "[encoded data removed]",
      "text/plain": [
       "<Figure size 640x480 with 1 Axes>"
      ]
     },
     "metadata": {},
     "output_type": "display_data"
    }
   ],
   "source": [
    "# Para hacerlo interesante para el Sabado decidi usar un grafico de barras que deberia dar algo similiar.\n",
    "# Usamos plot() con kind=\"bar\"\n",
    "\n",
    "orders_df[orders_df[\"order_dow\"]==6][\"order_hour_of_day\"].value_counts().sort_index().plot(kind=\"bar\",                                                             \n",
    "                                                              title=\"# of orders in Saturday\",\n",
    "                                                              grid=False\n",
    "                                                             )\n",
    "\n",
    "plt.xlabel(\"24 hours in Saturday\")\n",
    "plt.ylabel(\"# of orders\")\n",
    "\n",
    "plt.show()"
   ]
  },
  {
   "cell_type": "code",
   "execution_count": 57,
   "id": "797c90a8",
   "metadata": {
    "id": "797c90a8"
   },
   "outputs": [
    {
     "name": "stdout",
     "output_type": "stream",
     "text": [
      "                        order_id   user_id  order_number  order_dow  \\\n",
      "order_id                1.000000  0.000460     -0.001059  -0.001450   \n",
      "user_id                 0.000460  1.000000     -0.003835  -0.001162   \n",
      "order_number           -0.001059 -0.003835      1.000000   0.015156   \n",
      "order_dow              -0.001450 -0.001162      0.015156   1.000000   \n",
      "order_hour_of_day       0.000228 -0.000378     -0.033132   0.008318   \n",
      "days_since_prior_order -0.000141  0.001659     -0.270195  -0.027008   \n",
      "\n",
      "                        order_hour_of_day  days_since_prior_order  \n",
      "order_id                         0.000228               -0.000141  \n",
      "user_id                         -0.000378                0.001659  \n",
      "order_number                    -0.033132               -0.270195  \n",
      "order_dow                        0.008318               -0.027008  \n",
      "order_hour_of_day                1.000000               -0.005385  \n",
      "days_since_prior_order          -0.005385                1.000000  \n"
     ]
    }
   ],
   "source": [
    "# Aqui queria mirar la matriz de correlacion que datos arrojaba pero no vi mucha relacion entra las diferentes columnas \n",
    "\n",
    "print(orders_df.corr())"
   ]
  },
  {
   "cell_type": "code",
   "execution_count": 58,
   "id": "fbaf827d",
   "metadata": {},
   "outputs": [
    {
     "data": {
      "image/png": "[encoded data removed]",
      "text/plain": [
       "<Figure size 1000x1000 with 1 Axes>"
      ]
     },
     "metadata": {},
     "output_type": "display_data"
    }
   ],
   "source": [
    "# Asignamos una variable nueva para el dataframe filtrado.\n",
    "\n",
    "orders_filt = orders_df[orders_df[\"order_dow\"].isin([3,6])]\n",
    "\n",
    "# Podemos usar pivot_table o una tabla dinamica para crear el dataframe que necesitamos filtrar \n",
    "# con las condiciones del filtrado.\n",
    "\n",
    "orders_filt.pivot_table(index=\"order_hour_of_day\",columns=\"order_dow\",values=\"order_id\",aggfunc=\"count\").plot(kind=\"bar\", figsize=[10,10])\n",
    "\n",
    "plt.xlabel(\"Hour of day (24 hours format)\")\n",
    "plt.ylabel(\"# of orders\")\n",
    "plt.legend([\"Wednesday\",\"Saturday\"])\n",
    "\n",
    "plt.show()\n"
   ]
  },
  {
   "cell_type": "markdown",
   "id": "charitable-congo",
   "metadata": {
    "id": "charitable-congo"
   },
   "source": [
    "En este caso vemos que basicamente el periodo de mas pedidos realizados se presenta entre 2 y 3 PM pero el Sabado es el dia que mas de se vende en comparacion con el miercoles."
   ]
  },
  {
   "cell_type": "markdown",
   "id": "e3891143",
   "metadata": {
    "id": "e3891143"
   },
   "source": [
    "### [B2] ¿Cuál es la distribución para el número de pedidos por cliente?"
   ]
  },
  {
   "cell_type": "code",
   "execution_count": 59,
   "id": "d8c26c23",
   "metadata": {
    "id": "d8c26c23"
   },
   "outputs": [
    {
     "data": {
      "image/png": "[encoded data removed]",
      "text/plain": [
       "<Figure size 1000x1000 with 1 Axes>"
      ]
     },
     "metadata": {},
     "output_type": "display_data"
    }
   ],
   "source": [
    "orders_df[\"order_number\"].plot(kind=\"hist\",\n",
    "                               bins=30,\n",
    "                               title=\"# order numbers per client\",\n",
    "                               grid=True,\n",
    "                               figsize=[10,10]\n",
    "                              )\n",
    "\n",
    "plt.xlabel(\"Order numbers\")\n",
    "plt.ylabel(\"# of clients\")\n",
    "\n",
    "plt.show()"
   ]
  },
  {
   "cell_type": "code",
   "execution_count": 60,
   "id": "00e69a66",
   "metadata": {
    "id": "00e69a66"
   },
   "outputs": [
    {
     "name": "stdout",
     "output_type": "stream",
     "text": [
      "0         11\n",
      "1          5\n",
      "2          4\n",
      "3         56\n",
      "4          2\n",
      "          ..\n",
      "478947     5\n",
      "478948     2\n",
      "478949    16\n",
      "478950     3\n",
      "478951    18\n",
      "Name: order_number, Length: 478952, dtype: int64\n"
     ]
    }
   ],
   "source": [
    "print(orders_df[\"order_number\"])"
   ]
  },
  {
   "cell_type": "markdown",
   "id": "d2eff7d5",
   "metadata": {
    "id": "d2eff7d5"
   },
   "source": [
    "En este caso vemos que los clientes tienden a hacer un solo pedido, no es muy comun que un cliente hage mas de 1 pedido."
   ]
  },
  {
   "cell_type": "markdown",
   "id": "54a0319c",
   "metadata": {
    "id": "54a0319c"
   },
   "source": [
    "### [B3] ¿Cuáles son los 20 productos más populares (muestra su ID y nombre)?"
   ]
  },
  {
   "cell_type": "code",
   "execution_count": 61,
   "id": "exterior-arizona",
   "metadata": {
    "id": "exterior-arizona",
    "scrolled": true
   },
   "outputs": [
    {
     "name": "stdout",
     "output_type": "stream",
     "text": [
      "         product_id                product_name  aisle_id  department_id  \\\n",
      "0                 1  CHOCOLATE SANDWICH COOKIES        61             19   \n",
      "1                 1  CHOCOLATE SANDWICH COOKIES        61             19   \n",
      "2                 1  CHOCOLATE SANDWICH COOKIES        61             19   \n",
      "3                 1  CHOCOLATE SANDWICH COOKIES        61             19   \n",
      "4                 1  CHOCOLATE SANDWICH COOKIES        61             19   \n",
      "...             ...                         ...       ...            ...   \n",
      "4545002       49694     BURRITO- STEAK & CHEESE        38              1   \n",
      "4545003       49694     BURRITO- STEAK & CHEESE        38              1   \n",
      "4545004       49694     BURRITO- STEAK & CHEESE        38              1   \n",
      "4545005       49694     BURRITO- STEAK & CHEESE        38              1   \n",
      "4545006       49694     BURRITO- STEAK & CHEESE        38              1   \n",
      "\n",
      "         order_id  add_to_cart_order  reordered  \n",
      "0         1104373                 11          1  \n",
      "1         1774977                  4          1  \n",
      "2          652770                 10          0  \n",
      "3         1000035                  6          1  \n",
      "4         1679949                  9          0  \n",
      "...           ...                ...        ...  \n",
      "4545002   3034802                 10          0  \n",
      "4545003   3175081                  3          0  \n",
      "4545004    694132                  2          0  \n",
      "4545005   2843165                  5          0  \n",
      "4545006   2077154                 12          0  \n",
      "\n",
      "[4545007 rows x 7 columns]\n"
     ]
    }
   ],
   "source": [
    "# Para mostrar poder mostrar el ID y nombre tenemos que unir product_df con order_products\n",
    "# En este caso decidi usar merge()\n",
    "\n",
    "both_df = products_df.merge(order_products_df, on='product_id')\n",
    "print(both_df)"
   ]
  },
  {
   "cell_type": "code",
   "execution_count": 62,
   "id": "universal-facial",
   "metadata": {
    "id": "universal-facial"
   },
   "outputs": [
    {
     "name": "stdout",
     "output_type": "stream",
     "text": [
      "product_id  product_name            \n",
      "24852       BANANA                      66050\n",
      "13176       BAG OF ORGANIC BANANAS      53297\n",
      "21137       ORGANIC STRAWBERRIES        37039\n",
      "21903       ORGANIC BABY SPINACH        33971\n",
      "47209       ORGANIC HASS AVOCADO        29773\n",
      "47766       ORGANIC AVOCADO             24689\n",
      "47626       LARGE LEMON                 21495\n",
      "16797       STRAWBERRIES                20018\n",
      "26209       LIMES                       19690\n",
      "27845       ORGANIC WHOLE MILK          19600\n",
      "27966       ORGANIC RASPBERRIES         19197\n",
      "22935       ORGANIC YELLOW ONION        15898\n",
      "24964       ORGANIC GARLIC              15292\n",
      "45007       ORGANIC ZUCCHINI            14584\n",
      "39275       ORGANIC BLUEBERRIES         13879\n",
      "49683       CUCUMBER KIRBY              13675\n",
      "28204       ORGANIC FUJI APPLE          12544\n",
      "5876        ORGANIC LEMON               12232\n",
      "8277        APPLE HONEYCRISP ORGANIC    11993\n",
      "40706       ORGANIC GRAPE TOMATOES      11781\n",
      "Name: order_id, dtype: int64\n"
     ]
    }
   ],
   "source": [
    "# Aqui podemos hacerlo en una sola linea de codigo\n",
    "# Usamos count() y agrupamos por product_id y product_name\n",
    "# Usamos head(20) para mostrar los 20 productos mas populares del resultado.\n",
    "\n",
    "print(both_df.groupby([\"product_id\",\"product_name\"])[\"order_id\"].count().sort_values(ascending=False).head(20))"
   ]
  },
  {
   "cell_type": "markdown",
   "id": "666a96e2",
   "metadata": {},
   "source": [
    "*Parece que el product_id 24852 para las Banana el el producto mas popular entre los clientes que hacen pedidos.*"
   ]
  },
  {
   "cell_type": "markdown",
   "id": "gross-theme",
   "metadata": {
    "id": "gross-theme"
   },
   "source": [
    "# [C] \n",
    "\n",
    "1. ¿Cuántos artículos suelen comprar las personas en un pedido? ¿Cómo es la distribución?\n",
    "2. ¿Cuáles son los 20 principales artículos que vuelven a pedirse con mayor frecuencia (muestra sus nombres e IDs de los productos)?\n",
    "3. Para cada producto, ¿cuál es la tasa de repetición del pedido (número de repeticiones de pedido/total de pedidos?\n",
    "4. Para cada cliente, ¿qué proporción de los productos que pidió ya los había pedido? Calcula la tasa de repetición de pedido para cada usuario en lugar de para cada producto.\n",
    "5. ¿Cuáles son los 20 principales artículos que la gente pone primero en sus carritos (muestra las IDs de los productos, sus nombres, y el número de veces en que fueron el primer artículo en añadirse al carrito)?"
   ]
  },
  {
   "cell_type": "markdown",
   "id": "romantic-deposit",
   "metadata": {
    "id": "romantic-deposit"
   },
   "source": [
    "### [C1] ¿Cuántos artículos compran normalmente las personas en un pedido? ¿Cómo es la distribución?"
   ]
  },
  {
   "cell_type": "code",
   "execution_count": 63,
   "id": "virtual-punch",
   "metadata": {
    "id": "virtual-punch"
   },
   "outputs": [
    {
     "name": "stdout",
     "output_type": "stream",
     "text": [
      "         order_id  user_id  order_number  order_dow  order_hour_of_day  \\\n",
      "0         1515936   183418            11          6                 13   \n",
      "1         1515936   183418            11          6                 13   \n",
      "2         1515936   183418            11          6                 13   \n",
      "3         1515936   183418            11          6                 13   \n",
      "4         1515936   183418            11          6                 13   \n",
      "...           ...      ...           ...        ...                ...   \n",
      "4545002   2071924     1730            18          1                 14   \n",
      "4545003   2071924     1730            18          1                 14   \n",
      "4545004   2071924     1730            18          1                 14   \n",
      "4545005   2071924     1730            18          1                 14   \n",
      "4545006   2071924     1730            18          1                 14   \n",
      "\n",
      "         days_since_prior_order  product_id  add_to_cart_order  reordered  \n",
      "0                          30.0       19048                  1          1  \n",
      "1                          30.0       47766                  3          1  \n",
      "2                          30.0       45066                  9          0  \n",
      "3                          30.0       24082                 11          0  \n",
      "4                          30.0       24363                  4          0  \n",
      "...                         ...         ...                ...        ...  \n",
      "4545002                    15.0        1503                 17          0  \n",
      "4545003                    15.0        4778                 12          1  \n",
      "4545004                    15.0       11512                  1          1  \n",
      "4545005                    15.0        4920                  6          1  \n",
      "4545006                    15.0       17678                  4          1  \n",
      "\n",
      "[4545007 rows x 9 columns]\n",
      "<class 'pandas.core.frame.DataFrame'>\n",
      "RangeIndex: 4545007 entries, 0 to 4545006\n",
      "Data columns (total 9 columns):\n",
      " #   Column                  Dtype  \n",
      "---  ------                  -----  \n",
      " 0   order_id                int64  \n",
      " 1   user_id                 int64  \n",
      " 2   order_number            int64  \n",
      " 3   order_dow               int64  \n",
      " 4   order_hour_of_day       int64  \n",
      " 5   days_since_prior_order  float64\n",
      " 6   product_id              int64  \n",
      " 7   add_to_cart_order       int32  \n",
      " 8   reordered               int64  \n",
      "dtypes: float64(1), int32(1), int64(7)\n",
      "memory usage: 294.7 MB\n"
     ]
    }
   ],
   "source": [
    "# Unimos los dataframes orders_df y order_products_df usando merge()\n",
    "\n",
    "both_orders_df = orders_df.merge(order_products_df,on=\"order_id\")\n",
    "print(both_orders_df)\n",
    "both_orders_df.info()"
   ]
  },
  {
   "cell_type": "code",
   "execution_count": 64,
   "id": "sensitive-breathing",
   "metadata": {
    "id": "sensitive-breathing"
   },
   "outputs": [
    {
     "name": "stdout",
     "output_type": "stream",
     "text": [
      "product_id\n",
      "5      31923\n",
      "6      31698\n",
      "4      31054\n",
      "7      30822\n",
      "3      29046\n",
      "       ...  \n",
      "72         1\n",
      "87         1\n",
      "85         1\n",
      "127        1\n",
      "115        1\n",
      "Name: count, Length: 90, dtype: int64\n"
     ]
    }
   ],
   "source": [
    "# Agrupamos el nuevo dataframe al que le hicimos merge y aplicamos count()\n",
    "\n",
    "print(both_orders_df.groupby(\"order_id\")[\"product_id\"].count().value_counts().sort_values(ascending=False))"
   ]
  },
  {
   "cell_type": "code",
   "execution_count": 65,
   "id": "completed-frank",
   "metadata": {
    "id": "completed-frank"
   },
   "outputs": [
    {
     "data": {
      "image/png": "[encoded data removed]",
      "text/plain": [
       "<Figure size 2000x2000 with 1 Axes>"
      ]
     },
     "metadata": {},
     "output_type": "display_data"
    }
   ],
   "source": [
    "# Podemos graficar usando kind=\"bar\"\n",
    "\n",
    "both_orders_df.groupby(\"order_id\")[\"product_id\"].count().value_counts().sort_index().plot(kind=\"bar\",\n",
    "                                                                                          title=\"Amount of articles in the 1st order\",\n",
    "                                                                                          xlim =[0,127],\n",
    "                                                                                          figsize=[20,20]\n",
    "                                                                                         )\n",
    "\n",
    "plt.xlabel(\"product id\")\n",
    "plt.ylabel(\"# of orders\")\n",
    "\n",
    "plt.show()"
   ]
  },
  {
   "cell_type": "markdown",
   "id": "7a5f9aed",
   "metadata": {},
   "source": [
    "*Los clientes tienden a comprar 5 productos o articulos con mayor frecuencia en un pedido.*"
   ]
  },
  {
   "cell_type": "markdown",
   "id": "5e6b5537",
   "metadata": {
    "id": "5e6b5537"
   },
   "source": [
    "### [C2] ¿Cuáles son los 20 principales artículos que vuelven a pedirse con mayor frecuencia (muestra sus nombres e IDs de los productos)?"
   ]
  },
  {
   "cell_type": "code",
   "execution_count": 66,
   "id": "9374e55a",
   "metadata": {
    "id": "9374e55a"
   },
   "outputs": [
    {
     "name": "stdout",
     "output_type": "stream",
     "text": [
      "count    4.545007e+06\n",
      "mean     5.905025e-01\n",
      "std      4.917411e-01\n",
      "min      0.000000e+00\n",
      "25%      0.000000e+00\n",
      "50%      1.000000e+00\n",
      "75%      1.000000e+00\n",
      "max      1.000000e+00\n",
      "Name: reordered, dtype: float64\n"
     ]
    }
   ],
   "source": [
    "print(both_orders_df[\"reordered\"].describe())"
   ]
  },
  {
   "cell_type": "code",
   "execution_count": 67,
   "id": "possible-change",
   "metadata": {
    "id": "possible-change",
    "scrolled": true
   },
   "outputs": [
    {
     "name": "stdout",
     "output_type": "stream",
     "text": [
      "count    4.545007e+06\n",
      "mean     1.713242e+01\n",
      "std      1.749958e+01\n",
      "min      1.000000e+00\n",
      "25%      5.000000e+00\n",
      "50%      1.100000e+01\n",
      "75%      2.400000e+01\n",
      "max      9.900000e+01\n",
      "Name: order_number, dtype: float64\n",
      "99\n"
     ]
    }
   ],
   "source": [
    "print(both_orders_df[\"order_number\"].describe())\n",
    "print(both_orders_df[\"order_number\"].max())"
   ]
  },
  {
   "cell_type": "code",
   "execution_count": 68,
   "id": "1b03dbbb",
   "metadata": {},
   "outputs": [],
   "source": [
    "# Aqui usamos un filtro y lo asignamos a una nueva variable\n",
    "\n",
    "reordered_filt = both_df[both_df[\"reordered\"] == 1]"
   ]
  },
  {
   "cell_type": "code",
   "execution_count": 69,
   "id": "61cfb5df",
   "metadata": {},
   "outputs": [
    {
     "name": "stdout",
     "output_type": "stream",
     "text": [
      "product_name              product_id\n",
      "BANANA                    24852         55763\n",
      "BAG OF ORGANIC BANANAS    13176         44450\n",
      "ORGANIC STRAWBERRIES      21137         28639\n",
      "ORGANIC BABY SPINACH      21903         26233\n",
      "ORGANIC HASS AVOCADO      47209         23629\n",
      "ORGANIC AVOCADO           47766         18743\n",
      "ORGANIC WHOLE MILK        27845         16251\n",
      "LARGE LEMON               47626         15044\n",
      "ORGANIC RASPBERRIES       27966         14748\n",
      "STRAWBERRIES              16797         13945\n",
      "LIMES                     26209         13327\n",
      "ORGANIC YELLOW ONION      22935         11145\n",
      "ORGANIC GARLIC            24964         10411\n",
      "ORGANIC ZUCCHINI          45007         10076\n",
      "CUCUMBER KIRBY            49683          9538\n",
      "ORGANIC FUJI APPLE        28204          8989\n",
      "APPLE HONEYCRISP ORGANIC  8277           8836\n",
      "ORGANIC BLUEBERRIES       39275          8799\n",
      "ORGANIC LEMON             5876           8412\n",
      "ORGANIC HALF & HALF       49235          8389\n",
      "Name: order_id, dtype: int64\n"
     ]
    }
   ],
   "source": [
    "# Aqui podemos hacerlo en una sola linea de codigo\n",
    "# Usamos count() y agrupamos por product_id y product_name\n",
    "# Usamos head(20) para mostrar los 20 productos mas populares del resultado.\n",
    "\n",
    "\n",
    "print(reordered_filt.groupby([\"product_name\",\"product_id\"])[\"order_id\"].count().sort_values(ascending=False).head(20))"
   ]
  },
  {
   "cell_type": "markdown",
   "id": "a368ee33",
   "metadata": {},
   "source": [
    "*Parece que el articulo que vuelve a pedirse con mas frecuencia es la Banana*"
   ]
  },
  {
   "cell_type": "markdown",
   "id": "9d312b14",
   "metadata": {
    "id": "9d312b14"
   },
   "source": [
    "### [C3] Para cada producto, ¿cuál es la proporción de las veces que se pide y que se vuelve a pedir?"
   ]
  },
  {
   "cell_type": "code",
   "execution_count": 70,
   "id": "8ae9f4b1",
   "metadata": {
    "id": "8ae9f4b1",
    "scrolled": true
   },
   "outputs": [
    {
     "name": "stdout",
     "output_type": "stream",
     "text": [
      "product_name                                                                             product_id\n",
      "#2 COFFEE FILTERS                                                                        25773         0.254545\n",
      "#2 CONE WHITE COFFEE FILTERS                                                             2158          0.000000\n",
      "#2 MECHANICAL PENCILS                                                                    26685         0.000000\n",
      "#4 NATURAL BROWN COFFEE FILTERS                                                          26381         0.358974\n",
      "& GO! HAZELNUT SPREAD + PRETZEL STICKS                                                   20604         0.466667\n",
      "                                                                                                         ...   \n",
      "\\\"DARN GOOD\\\" CHILI MIX                                                                  10559         0.400000\n",
      "\\\"IM PEI-NUT BUTTER\\\" DOUBLE CHOCOLATE COOKIE & PEANUT BUTTER ICE CREAM                  13817         0.400000\n",
      "\\\"LOUIS BA-KAHN\\\" CHOCOLATE CHIP COOKIE & BROWN BUTTER CANDIED BACON ICE CREAM SANDWICH  44344         0.000000\n",
      "\\\"MIES VANILLA ROHE\\\" ICE CREAM BARS                                                     25917         0.500000\n",
      "\\\"MOKACCINO\\\" MILK + BLUE BOTTLE COFFEE CHOCOLATE                                        45316         0.711538\n",
      "Name: reordered, Length: 45573, dtype: float64\n"
     ]
    }
   ],
   "source": [
    "# Usamos mean() en el dataframe agrupado.\n",
    "\n",
    "print(both_df.groupby([\"product_name\",\"product_id\"])[\"reordered\"].mean())"
   ]
  },
  {
   "cell_type": "code",
   "execution_count": 71,
   "id": "103e7fe1",
   "metadata": {
    "id": "103e7fe1"
   },
   "outputs": [
    {
     "name": "stdout",
     "output_type": "stream",
     "text": [
      "product_name                                                                product_id\n",
      "PEANUT BUTTER HONEY SPREAD                                                  15657         1.0\n",
      "VANILLA CREAM SELTZER                                                       38821         1.0\n",
      "ORGANIC BUTTERNUT SQUASH STRAWBERRY & ACAI SQUEEZABLE VEGGIE & FRUIT SNACK  43738         1.0\n",
      "SUPERFRUIT MIX JELLY BEANS                                                  27031         1.0\n",
      "PEANUT BUTTER & MOLASSES HEALTHY TREATS FOR DOGS                            12560         1.0\n",
      "                                                                                         ... \n",
      "CLEAR PARTY CUPS                                                            46367         0.0\n",
      "CLEAR MEASURING 2 CUP WITH MEASUREMENTS                                     6512          0.0\n",
      "CLEAR HAND SOAP                                                             9222          0.0\n",
      "CLEAR FACE BREAK OUT FREE LIQUID LOTION SUNSCREEN SPF 30                    23207         0.0\n",
      "CHICKEN & BROWN RICE FLAXSEED ORGANIX HEALTHY ADULT CAT FOOD                38851         0.0\n",
      "Name: reordered, Length: 45573, dtype: float64\n"
     ]
    }
   ],
   "source": [
    "print(both_df.groupby([\"product_name\",\"product_id\"])[\"reordered\"].mean().sort_values(ascending=False))"
   ]
  },
  {
   "cell_type": "markdown",
   "id": "8a361d25",
   "metadata": {},
   "source": [
    "*Vemos que hay articulos que se tienden a pedir varias veces. Algunos productos alcanzan hasta un 100%.*"
   ]
  },
  {
   "cell_type": "markdown",
   "id": "subject-boxing",
   "metadata": {
    "id": "subject-boxing"
   },
   "source": [
    "### [C4] Para cada cliente, ¿qué proporción de sus productos ya los había pedido?"
   ]
  },
  {
   "cell_type": "code",
   "execution_count": 72,
   "id": "medical-couple",
   "metadata": {
    "id": "medical-couple",
    "scrolled": true
   },
   "outputs": [
    {
     "name": "stdout",
     "output_type": "stream",
     "text": [
      "user_id\n",
      "2         0.038462\n",
      "4         0.000000\n",
      "5         0.666667\n",
      "6         0.000000\n",
      "7         0.928571\n",
      "            ...   \n",
      "206203    0.222222\n",
      "206206    0.714286\n",
      "206207    0.891304\n",
      "206208    0.696000\n",
      "206209    0.320000\n",
      "Name: reordered, Length: 149626, dtype: float64\n"
     ]
    }
   ],
   "source": [
    "# Agrupamos por user_id y luego usamos mean() en la columna \"reordered\"\n",
    "\n",
    "\n",
    "print(both_orders_df.groupby(\"user_id\")[\"reordered\"].mean())\n"
   ]
  },
  {
   "cell_type": "code",
   "execution_count": 73,
   "id": "8892e4b4",
   "metadata": {
    "id": "8892e4b4"
   },
   "outputs": [
    {
     "name": "stdout",
     "output_type": "stream",
     "text": [
      "user_id\n",
      "137587    1.0\n",
      "173474    1.0\n",
      "13918     1.0\n",
      "62300     1.0\n",
      "62307     1.0\n",
      "         ... \n",
      "190953    0.0\n",
      "119371    0.0\n",
      "63173     0.0\n",
      "63163     0.0\n",
      "165726    0.0\n",
      "Name: reordered, Length: 149626, dtype: float64\n"
     ]
    }
   ],
   "source": [
    "print(both_orders_df.groupby(\"user_id\")[\"reordered\"].mean().sort_values(ascending=False))"
   ]
  },
  {
   "cell_type": "markdown",
   "id": "b7c8da5c",
   "metadata": {},
   "source": [
    "*Esto es interesante, tenemos muy buenos clientes que vuelven a comprar el mismo producto varias veces.*"
   ]
  },
  {
   "cell_type": "markdown",
   "id": "92d35137",
   "metadata": {
    "id": "92d35137"
   },
   "source": [
    "### [C5] ¿Cuáles son los 20 principales artículos que las personas ponen primero en sus carritos?"
   ]
  },
  {
   "cell_type": "code",
   "execution_count": 74,
   "id": "forty-netherlands",
   "metadata": {
    "id": "forty-netherlands",
    "scrolled": true
   },
   "outputs": [],
   "source": [
    "# Creamos una nueva variable donde gurdamos el dataframe filtrado.\n",
    "\n",
    "add_to_cart_filter = both_df[both_df[\"add_to_cart_order\"]==1]"
   ]
  },
  {
   "cell_type": "code",
   "execution_count": 75,
   "id": "08e41ec2",
   "metadata": {
    "id": "08e41ec2"
   },
   "outputs": [
    {
     "name": "stdout",
     "output_type": "stream",
     "text": [
      "product_id  product_name               \n",
      "24852       BANANA                         15562\n",
      "13176       BAG OF ORGANIC BANANAS         11026\n",
      "27845       ORGANIC WHOLE MILK              4363\n",
      "21137       ORGANIC STRAWBERRIES            3946\n",
      "47209       ORGANIC HASS AVOCADO            3390\n",
      "21903       ORGANIC BABY SPINACH            3336\n",
      "47766       ORGANIC AVOCADO                 3044\n",
      "19660       SPRING WATER                    2336\n",
      "16797       STRAWBERRIES                    2308\n",
      "27966       ORGANIC RASPBERRIES             2024\n",
      "44632       SPARKLING WATER GRAPEFRUIT      1914\n",
      "49235       ORGANIC HALF & HALF             1797\n",
      "47626       LARGE LEMON                     1737\n",
      "196         SODA                            1733\n",
      "38689       ORGANIC REDUCED FAT MILK        1397\n",
      "26209       LIMES                           1370\n",
      "12341       HASS AVOCADOS                   1340\n",
      "5785        ORGANIC REDUCED FAT 2% MILK     1310\n",
      "27086       HALF & HALF                     1309\n",
      "43352       RASPBERRIES                     1246\n",
      "Name: order_id, dtype: int64\n"
     ]
    }
   ],
   "source": [
    "# Agrupamos el dataframe filtrado y luego usamos count().\n",
    "\n",
    "print(add_to_cart_filter.groupby([\"product_id\",\"product_name\"])[\"order_id\"].count().sort_values(ascending=False).head(20))"
   ]
  },
  {
   "cell_type": "markdown",
   "id": "def821e3",
   "metadata": {},
   "source": [
    "Interesante, las Banana es el primer producto más frecuente que las personas ponen en sus carritos"
   ]
  },
  {
   "cell_type": "markdown",
   "id": "uITbFCEoDosC",
   "metadata": {
    "id": "uITbFCEoDosC"
   },
   "source": [
    "# Conclusiones generales del proyecto"
   ]
  },
  {
   "cell_type": "markdown",
   "id": "8d1d488c",
   "metadata": {
    "id": "Nk-4GS7mDwqY"
   },
   "source": [
    "Podemos concluir que la Banana es el producto que se ordena mas frecuente, el dia con mas pedidos es el Domingo. El Domingo es un dia con muchas ventas. Parece ser que hay un pico o hora pico para las ventas entre las 3 y 4 PM, durante estas horas tenemos un alto numero de pedidos por lo que es un lapso de tiempo a tener en cuenta. Las personas tienden a comprar de entre 5 a 6 productos por pedido. La mayoria de los clientes tiende a esperar por lo menos un mes para hacer un proximo pedido. La banana es unos de los primeros productos agregados al carrito de compras."
   ]
  }
 ],
 "metadata": {
  "colab": {
   "provenance": []
  },
  "kernelspec": {
   "display_name": "Python 3 (ipykernel)",
   "language": "python",
   "name": "python3"
  },
  "language_info": {
   "codemirror_mode": {
    "name": "ipython",
    "version": 3
   },
   "file_extension": ".py",
   "mimetype": "text/x-python",
   "name": "python",
   "nbconvert_exporter": "python",
   "pygments_lexer": "ipython3",
   "version": "3.12.5"
  },
  "toc": {
   "base_numbering": 1,
   "nav_menu": {},
   "number_sections": true,
   "sideBar": true,
   "skip_h1_title": true,
   "title_cell": "Table of Contents",
   "title_sidebar": "Contents",
   "toc_cell": false,
   "toc_position": {},
   "toc_section_display": true,
   "toc_window_display": false
  },
  "vscode": {
   "interpreter": {
    "hash": "01a7be9ec63e704a62cefc5fe7a4756944464ee731be31632bdf42a4cb4688cf"
   }
  }
 },
 "nbformat": 4,
 "nbformat_minor": 5
}
